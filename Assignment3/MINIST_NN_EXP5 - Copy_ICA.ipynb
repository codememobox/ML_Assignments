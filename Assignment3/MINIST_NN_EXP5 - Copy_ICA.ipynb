{
 "cells": [
  {
   "cell_type": "code",
   "execution_count": 5,
   "id": "indirect-frederick",
   "metadata": {},
   "outputs": [],
   "source": [
    "%config IPCompleter.greedy=True\n",
    "%config IPCompleter.use_jedi=False"
   ]
  },
  {
   "cell_type": "code",
   "execution_count": 6,
   "id": "third-diary",
   "metadata": {},
   "outputs": [],
   "source": [
    "from sklearn import preprocessing\n",
    "from sklearn.model_selection import train_test_split\n",
    "from sklearn.decomposition import PCA\n",
    "from sklearn.decomposition import FastICA, TruncatedSVD\n",
    "from sklearn.decomposition import NMF\n",
    "from sklearn.cluster import KMeans\n",
    "from sklearn.metrics import silhouette_score, adjusted_mutual_info_score, silhouette_samples, mean_squared_error\n",
    "from sklearn.random_projection import GaussianRandomProjection\n",
    "from sklearn import mixture\n",
    "from sklearn.mixture import GaussianMixture\n",
    "from sklearn.ensemble import ExtraTreesClassifier\n",
    "from sklearn.feature_selection import SelectFromModel\n",
    "\n",
    "from sklearn.metrics import accuracy_score\n",
    "from sklearn.metrics import confusion_matrix\n",
    "from sklearn.neural_network import MLPClassifier\n",
    "\n",
    "from sklearn.model_selection import validation_curve\n",
    "from sklearn.model_selection import GridSearchCV\n",
    "from sklearn.model_selection import learning_curve\n",
    "\n",
    "from numpy import linalg as LA\n",
    "\n",
    "import matplotlib.pyplot as plt\n",
    "import matplotlib.cm as cm\n",
    "import matplotlib\n",
    "from mpl_toolkits.mplot3d import Axes3D\n",
    "\n",
    "import numpy as np\n",
    "import scipy\n",
    "from scipy.linalg import pinv\n",
    "import pandas as pd\n",
    "\n",
    "import itertools\n",
    "import scipy.stats\n",
    "\n",
    "import time\n",
    "\n",
    "import warnings\n",
    "warnings.filterwarnings('ignore')\n",
    "\n",
    "# import plotly.offline as py\n",
    "# py.init_notebook_mode(connected=True)\n",
    "\n",
    "# import plotly.graph_objs as go\n",
    "\n",
    "from sklearn.preprocessing import StandardScaler"
   ]
  },
  {
   "cell_type": "markdown",
   "id": "prescription-newsletter",
   "metadata": {},
   "source": [
    "# Data"
   ]
  },
  {
   "cell_type": "code",
   "execution_count": 7,
   "id": "spoken-recommendation",
   "metadata": {},
   "outputs": [],
   "source": [
    "df = pd.read_csv('data/minist_train.csv')\n",
    "\n",
    "df_sample = df.sample(10000)\n",
    "\n",
    "y = df_sample[df_sample.columns[0]]\n",
    "X = df_sample[df_sample.columns[1:]]\n",
    "\n",
    "# split the training and testing dataset\n",
    "X_train, X_test, y_train, y_test = train_test_split(X, y, test_size=0.2, random_state=42)"
   ]
  },
  {
   "cell_type": "markdown",
   "id": "talented-rescue",
   "metadata": {},
   "source": [
    "# Dimensionality Reduction"
   ]
  },
  {
   "cell_type": "markdown",
   "id": "christian-pixel",
   "metadata": {},
   "source": [
    "## ICA"
   ]
  },
  {
   "cell_type": "code",
   "execution_count": 8,
   "id": "textile-trigger",
   "metadata": {},
   "outputs": [],
   "source": [
    "X_ICA = FastICA(n_components = 5).fit_transform(X)"
   ]
  },
  {
   "cell_type": "markdown",
   "id": "german-drilling",
   "metadata": {},
   "source": [
    "# ICA with Clustering"
   ]
  },
  {
   "cell_type": "code",
   "execution_count": 9,
   "id": "center-attribute",
   "metadata": {},
   "outputs": [
    {
     "data": {
      "text/plain": [
       "array([[0.02629959, 0.00966525, 0.03143031, ..., 0.02037389, 0.02506155,\n",
       "        0.03002721],\n",
       "       [0.0283368 , 0.01243075, 0.03990959, ..., 0.03200268, 0.03352876,\n",
       "        0.03174181],\n",
       "       [0.02262036, 0.02251549, 0.01901731, ..., 0.01616264, 0.01593699,\n",
       "        0.01935614],\n",
       "       ...,\n",
       "       [0.03144008, 0.02536703, 0.02021554, ..., 0.02668849, 0.00535261,\n",
       "        0.02231722],\n",
       "       [0.01427249, 0.02759678, 0.01068504, ..., 0.02193876, 0.02346291,\n",
       "        0.02894198],\n",
       "       [0.0309948 , 0.02577784, 0.01961527, ..., 0.01617841, 0.01370999,\n",
       "        0.02700764]])"
      ]
     },
     "execution_count": 9,
     "metadata": {},
     "output_type": "execute_result"
    }
   ],
   "source": [
    "k = 7\n",
    "k_means_clustering = KMeans(n_clusters=k, random_state=42)\n",
    "k_means_clustering.fit_transform(X_ICA)"
   ]
  },
  {
   "cell_type": "code",
   "execution_count": 10,
   "id": "mysterious-kidney",
   "metadata": {},
   "outputs": [],
   "source": [
    "X_KMeans = np.append(X_ICA, k_means_clustering.fit_transform(X_ICA), 1)\n",
    "X_KMeans_train, X_KMeans_test, y_KMeans_train, y_KMeans_test = train_test_split(X_KMeans, y, test_size=0.3, random_state=42)"
   ]
  },
  {
   "cell_type": "code",
   "execution_count": 11,
   "id": "biological-harbor",
   "metadata": {},
   "outputs": [
    {
     "name": "stdout",
     "output_type": "stream",
     "text": [
      "Best params for neural network: {'alpha': 0.001, 'hidden_layer_sizes': 20}\n",
      "Time to train: 40693.01016783714\n",
      "Accuracy for best neural network: 0.67\n",
      "Time to infer: 0.00400996208190918\n"
     ]
    }
   ],
   "source": [
    "classifier_neural_network = MLPClassifier(random_state=42, max_iter=2000)\n",
    "param_grid = {'alpha': np.logspace(-3,3,7), 'hidden_layer_sizes': np.arange(2,25,2)}\n",
    "classifier_neural_network_best = GridSearchCV(classifier_neural_network, param_grid=param_grid, cv=4)\n",
    "\n",
    "start_time = time.time()\n",
    "classifier_neural_network_best.fit(X_KMeans_train, y_KMeans_train)\n",
    "end_time = time.time()\n",
    "time_train = end_time-start_time\n",
    "print(\"Best params for neural network:\",classifier_neural_network_best.best_params_)\n",
    "print(\"Time to train:\",time_train)\n",
    "\n",
    "start_time = time.time()\n",
    "classifier_accuracy = accuracy_score(y_KMeans_test, classifier_neural_network_best.predict(X_KMeans_test))\n",
    "end_time = time.time()\n",
    "time_infer = end_time-start_time\n",
    "print(\"Accuracy for best neural network:\", classifier_accuracy)\n",
    "print(\"Time to infer:\",time_infer)"
   ]
  },
  {
   "cell_type": "code",
   "execution_count": 12,
   "id": "royal-champion",
   "metadata": {},
   "outputs": [
    {
     "data": {
      "text/plain": [
       "array([[235,   0,   1,   0,   1,  31,   7,   2,  13,   0],\n",
       "       [  0, 305,   8,   4,   0,   1,   1,   3,   8,   0],\n",
       "       [ 14,   8, 159,  12,  16,   4,  88,   1,  12,   1],\n",
       "       [  4,   3,   8, 217,   1,  22,   4,   0,  29,   6],\n",
       "       [  0,   4,   0,   0, 189,   0,  10,  15,   6,  59],\n",
       "       [  7,  10,  15,  63,   5, 132,   9,  16,  15,   7],\n",
       "       [  2,   6,  72,   0,  16,   1, 181,   0,   8,   0],\n",
       "       [  3,  14,   0,   1,  15,   5,   3, 251,   7,  23],\n",
       "       [  6,   4,  13,  25,   4,  12,   4,   1, 205,  13],\n",
       "       [  1,   3,   0,   5, 112,   3,   5,  43,   6, 136]])"
      ]
     },
     "execution_count": 12,
     "metadata": {},
     "output_type": "execute_result"
    }
   ],
   "source": [
    "confusion_matrix(y_KMeans_test, classifier_neural_network_best.predict(X_KMeans_test))"
   ]
  },
  {
   "cell_type": "code",
   "execution_count": 13,
   "id": "prerequisite-franchise",
   "metadata": {},
   "outputs": [
    {
     "data": {
      "image/png": "[encoded data removed]",
      "text/plain": [
       "<Figure size 576x360 with 1 Axes>"
      ]
     },
     "metadata": {
      "needs_background": "light"
     },
     "output_type": "display_data"
    }
   ],
   "source": [
    "classifier_neural_network_learning = MLPClassifier(random_state=42, max_iter=2000, hidden_layer_sizes=classifier_neural_network_best.best_params_['hidden_layer_sizes'], alpha=classifier_neural_network_best.best_params_['alpha'])\n",
    "_, train_scores, test_scores = learning_curve(classifier_neural_network_learning, X_KMeans_train, y_KMeans_train, train_sizes=np.linspace(0.1,1.0,10), cv=4)\n",
    "\n",
    "plt.figure(figsize=(8,5))\n",
    "plt.plot(np.linspace(0.1,1.0,10)*100, np.mean(train_scores, axis=1), label='Train Score')\n",
    "plt.plot(np.linspace(0.1,1.0,10)*100, np.mean(test_scores, axis=1), label='CV Score')\n",
    "plt.legend()\n",
    "plt.title(\"Learning Curve (ICA, K-Means)\")\n",
    "plt.xlabel(\"Percentage of Training Examples\")\n",
    "plt.ylabel(\"Score\")\n",
    "plt.xticks(np.linspace(0.1,1.0,10)*100)\n",
    "plt.grid()\n",
    "plt.savefig('minist_exp5_ICA_learning_curve_kmeans.png')\n",
    "plt.show()"
   ]
  },
  {
   "cell_type": "markdown",
   "id": "previous-invalid",
   "metadata": {},
   "source": [
    "## EM (GMM)"
   ]
  },
  {
   "cell_type": "code",
   "execution_count": 14,
   "id": "arranged-provider",
   "metadata": {},
   "outputs": [
    {
     "data": {
      "text/plain": [
       "array([[6.01212398e-09, 4.53010790e-22, 9.86327043e-01, ...,\n",
       "        5.31463195e-04, 1.31144442e-02, 2.70432301e-05],\n",
       "       [4.56152260e-22, 5.95849626e-55, 9.99707837e-01, ...,\n",
       "        7.17918791e-06, 2.66368206e-04, 1.86159781e-05],\n",
       "       [6.62056136e-02, 3.67327963e-05, 9.25018402e-02, ...,\n",
       "        1.42119563e-01, 6.89568702e-02, 1.34004226e-04],\n",
       "       ...,\n",
       "       [9.86655386e-01, 9.53037084e-16, 1.60865730e-03, ...,\n",
       "        1.79064691e-03, 2.01289191e-04, 6.56283630e-06],\n",
       "       [5.84925074e-05, 3.97143100e-15, 4.80642623e-04, ...,\n",
       "        7.60947059e-04, 2.35263168e-01, 2.84687991e-05],\n",
       "       [4.15018834e-01, 2.04377304e-03, 3.84057156e-02, ...,\n",
       "        1.21319885e-02, 1.36149455e-02, 2.74554992e-05]])"
      ]
     },
     "execution_count": 14,
     "metadata": {},
     "output_type": "execute_result"
    }
   ],
   "source": [
    "gmm = mixture.GaussianMixture(n_components=7, covariance_type='full')\n",
    "gmm.fit(X_ICA)\n",
    "gmm.predict_proba(X_ICA)"
   ]
  },
  {
   "cell_type": "code",
   "execution_count": 15,
   "id": "municipal-storage",
   "metadata": {},
   "outputs": [],
   "source": [
    "X_GMM = np.append(X_ICA, gmm.predict_proba(X_ICA), 1)\n",
    "X_GMM_train, X_GMM_test, y_GMM_train, y_GMM_test = train_test_split(X_GMM, y, test_size=0.3, random_state=42)"
   ]
  },
  {
   "cell_type": "code",
   "execution_count": 16,
   "id": "oriental-vatican",
   "metadata": {},
   "outputs": [
    {
     "name": "stdout",
     "output_type": "stream",
     "text": [
      "Best params for neural network: {'alpha': 0.001, 'hidden_layer_sizes': 18}\n",
      "Time to train: 11872.539983034134\n",
      "Accuracy for best neural network: 0.7133333333333334\n",
      "Time to infer: 0.004700899124145508\n"
     ]
    }
   ],
   "source": [
    "classifier_neural_network = MLPClassifier(random_state=42, max_iter=2000)\n",
    "param_grid = {'alpha': np.logspace(-3,3,7), 'hidden_layer_sizes': np.arange(2,25,2)}\n",
    "classifier_neural_network_best = GridSearchCV(classifier_neural_network, param_grid=param_grid, cv=4)\n",
    "\n",
    "start_time = time.time()\n",
    "classifier_neural_network_best.fit(X_GMM_train, y_GMM_train)\n",
    "end_time = time.time()\n",
    "time_train = end_time-start_time\n",
    "print(\"Best params for neural network:\",classifier_neural_network_best.best_params_)\n",
    "print(\"Time to train:\",time_train)\n",
    "\n",
    "start_time = time.time()\n",
    "classifier_accuracy = accuracy_score(y_GMM_test, classifier_neural_network_best.predict(X_GMM_test))\n",
    "end_time = time.time()\n",
    "time_infer = end_time-start_time\n",
    "print(\"Accuracy for best neural network:\", classifier_accuracy)\n",
    "print(\"Time to infer:\",time_infer)"
   ]
  },
  {
   "cell_type": "code",
   "execution_count": 17,
   "id": "acting-uncle",
   "metadata": {},
   "outputs": [
    {
     "data": {
      "text/plain": [
       "array([[252,   0,   3,   0,   3,  16,   8,   0,   8,   0],\n",
       "       [  0, 299,   2,   8,   2,   0,   7,   3,   7,   2],\n",
       "       [ 10,   2, 169,  11,  11,   3,  94,   0,  13,   2],\n",
       "       [  4,   3,   5, 211,   1,  26,   4,   0,  34,   6],\n",
       "       [  0,   1,   0,   1, 199,   1,  11,  17,   2,  51],\n",
       "       [  9,   2,   8,  42,   4, 178,   9,  11,  13,   3],\n",
       "       [  2,   4,  48,   0,  13,   2, 211,   0,   6,   0],\n",
       "       [  1,   9,   2,   1,  20,   6,   2, 259,   3,  19],\n",
       "       [  3,   2,   2,  26,   3,  21,   9,   2, 212,   7],\n",
       "       [  1,   2,   0,   5, 104,   1,   2,  41,   8, 150]])"
      ]
     },
     "execution_count": 17,
     "metadata": {},
     "output_type": "execute_result"
    }
   ],
   "source": [
    "confusion_matrix(y_GMM_test, classifier_neural_network_best.predict(X_GMM_test))"
   ]
  },
  {
   "cell_type": "code",
   "execution_count": 18,
   "id": "behind-soundtrack",
   "metadata": {},
   "outputs": [
    {
     "data": {
      "image/png": "[encoded data removed]",
      "text/plain": [
       "<Figure size 576x360 with 1 Axes>"
      ]
     },
     "metadata": {
      "needs_background": "light"
     },
     "output_type": "display_data"
    }
   ],
   "source": [
    "classifier_neural_network_learning = MLPClassifier(random_state=42, max_iter=2000, hidden_layer_sizes=classifier_neural_network_best.best_params_['hidden_layer_sizes'], alpha=classifier_neural_network_best.best_params_['alpha'])\n",
    "_, train_scores, test_scores = learning_curve(classifier_neural_network_learning, X_GMM_train, y_GMM_train, train_sizes=np.linspace(0.1,1.0,10), cv=4)\n",
    "\n",
    "plt.figure(figsize=(8,5))\n",
    "plt.plot(np.linspace(0.1,1.0,10)*100, np.mean(train_scores, axis=1), label='Train Score')\n",
    "plt.plot(np.linspace(0.1,1.0,10)*100, np.mean(test_scores, axis=1), label='CV Score')\n",
    "plt.legend()\n",
    "plt.title(\"Learning Curve (ICA, GMM)\")\n",
    "plt.xlabel(\"Percentage of Training Examples\")\n",
    "plt.ylabel(\"Score\")\n",
    "plt.xticks(np.linspace(0.1,1.0,10)*100)\n",
    "plt.grid()\n",
    "plt.savefig('minist_exp5_ICA_learning_curve_gmm.png')\n",
    "plt.show()"
   ]
  },
  {
   "cell_type": "code",
   "execution_count": null,
   "id": "5065c312",
   "metadata": {},
   "outputs": [],
   "source": []
  }
 ],
 "metadata": {
  "kernelspec": {
   "display_name": "Python 3.8.13 ('base')",
   "language": "python",
   "name": "python3"
  },
  "language_info": {
   "codemirror_mode": {
    "name": "ipython",
    "version": 3
   },
   "file_extension": ".py",
   "mimetype": "text/x-python",
   "name": "python",
   "nbconvert_exporter": "python",
   "pygments_lexer": "ipython3",
   "version": "3.8.13"
  },
  "vscode": {
   "interpreter": {
    "hash": "d4034ec16f4178863f797ec67364e452a234f19ad2377ac4e8e1c34d4a8fe6f1"
   }
  }
 },
 "nbformat": 4,
 "nbformat_minor": 5
}
