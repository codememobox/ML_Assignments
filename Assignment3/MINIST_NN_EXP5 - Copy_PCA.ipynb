{
 "cells": [
  {
   "cell_type": "code",
   "execution_count": 1,
   "id": "indirect-frederick",
   "metadata": {},
   "outputs": [],
   "source": [
    "%config IPCompleter.greedy=True\n",
    "%config IPCompleter.use_jedi=False"
   ]
  },
  {
   "cell_type": "code",
   "execution_count": 2,
   "id": "third-diary",
   "metadata": {},
   "outputs": [],
   "source": [
    "from sklearn import preprocessing\n",
    "from sklearn.model_selection import train_test_split\n",
    "from sklearn.decomposition import PCA\n",
    "from sklearn.decomposition import FastICA, TruncatedSVD\n",
    "from sklearn.decomposition import NMF\n",
    "from sklearn.cluster import KMeans\n",
    "from sklearn.metrics import silhouette_score, adjusted_mutual_info_score, silhouette_samples, mean_squared_error\n",
    "from sklearn.random_projection import GaussianRandomProjection\n",
    "from sklearn import mixture\n",
    "from sklearn.mixture import GaussianMixture\n",
    "from sklearn.ensemble import ExtraTreesClassifier\n",
    "from sklearn.feature_selection import SelectFromModel\n",
    "\n",
    "from sklearn.metrics import accuracy_score\n",
    "from sklearn.metrics import confusion_matrix\n",
    "from sklearn.neural_network import MLPClassifier\n",
    "\n",
    "from sklearn.model_selection import validation_curve\n",
    "from sklearn.model_selection import GridSearchCV\n",
    "from sklearn.model_selection import learning_curve\n",
    "\n",
    "from numpy import linalg as LA\n",
    "\n",
    "import matplotlib.pyplot as plt\n",
    "import matplotlib.cm as cm\n",
    "import matplotlib\n",
    "from mpl_toolkits.mplot3d import Axes3D\n",
    "\n",
    "import numpy as np\n",
    "import scipy\n",
    "from scipy.linalg import pinv\n",
    "import pandas as pd\n",
    "\n",
    "import itertools\n",
    "import scipy.stats\n",
    "\n",
    "import time\n",
    "\n",
    "import warnings\n",
    "warnings.filterwarnings('ignore')\n",
    "\n",
    "# import plotly.offline as py\n",
    "# py.init_notebook_mode(connected=True)\n",
    "\n",
    "# import plotly.graph_objs as go\n",
    "\n",
    "from sklearn.preprocessing import StandardScaler"
   ]
  },
  {
   "cell_type": "markdown",
   "id": "prescription-newsletter",
   "metadata": {},
   "source": [
    "# Data"
   ]
  },
  {
   "cell_type": "code",
   "execution_count": 3,
   "id": "spoken-recommendation",
   "metadata": {},
   "outputs": [],
   "source": [
    "df = pd.read_csv('data/minist_train.csv')\n",
    "\n",
    "df_sample = df.sample(10000)\n",
    "\n",
    "y = df_sample[df_sample.columns[0]]\n",
    "X = df_sample[df_sample.columns[1:]]\n",
    "\n",
    "# split the training and testing dataset\n",
    "X_train, X_test, y_train, y_test = train_test_split(X, y, test_size=0.2, random_state=42)"
   ]
  },
  {
   "cell_type": "markdown",
   "id": "talented-rescue",
   "metadata": {},
   "source": [
    "# Dimensionality Reduction"
   ]
  },
  {
   "cell_type": "markdown",
   "id": "silver-interpretation",
   "metadata": {},
   "source": [
    "## PCA"
   ]
  },
  {
   "cell_type": "code",
   "execution_count": 4,
   "id": "modular-customs",
   "metadata": {},
   "outputs": [],
   "source": [
    "X_PCA = PCA(n_components = 6).fit_transform(X)"
   ]
  },
  {
   "cell_type": "markdown",
   "id": "german-drilling",
   "metadata": {},
   "source": [
    "# PCA with Clustering"
   ]
  },
  {
   "cell_type": "code",
   "execution_count": 5,
   "id": "center-attribute",
   "metadata": {},
   "outputs": [
    {
     "data": {
      "text/plain": [
       "array([[1509.91012812, 1521.8426867 , 1551.25503253, ..., 1684.74348921,\n",
       "        2155.62033709,  501.99052533],\n",
       "       [1611.10369777, 1450.54628097, 1526.00029497, ..., 1367.49316796,\n",
       "        1920.48483691, 1208.70393197],\n",
       "       [1372.31797689,  553.35821524, 1175.33476471, ...,  754.30001183,\n",
       "        1992.14608222, 1344.37747633],\n",
       "       ...,\n",
       "       [1996.51008071, 1312.59332127, 1802.95631781, ..., 1291.10633581,\n",
       "        1495.44705927, 2057.24192942],\n",
       "       [ 870.49562329, 1835.56341457, 1345.06822032, ..., 1551.01488855,\n",
       "        1235.95292449, 1908.40860494],\n",
       "       [1663.30060537,  487.78667851, 1399.55715915, ..., 1058.1511013 ,\n",
       "        1824.41980476, 1206.29337361]])"
      ]
     },
     "execution_count": 5,
     "metadata": {},
     "output_type": "execute_result"
    }
   ],
   "source": [
    "k = 7\n",
    "k_means_clustering = KMeans(n_clusters=k, random_state=42)\n",
    "k_means_clustering.fit_transform(X_PCA)"
   ]
  },
  {
   "cell_type": "code",
   "execution_count": 6,
   "id": "mysterious-kidney",
   "metadata": {},
   "outputs": [],
   "source": [
    "X_KMeans = np.append(X_PCA, k_means_clustering.fit_transform(X_PCA), 1)\n",
    "X_KMeans_train, X_KMeans_test, y_KMeans_train, y_KMeans_test = train_test_split(X_KMeans, y, test_size=0.3, random_state=42)"
   ]
  },
  {
   "cell_type": "code",
   "execution_count": 7,
   "id": "biological-harbor",
   "metadata": {},
   "outputs": [
    {
     "name": "stdout",
     "output_type": "stream",
     "text": [
      "Best params for neural network: {'alpha': 100.0, 'hidden_layer_sizes': 20}\n",
      "Time to train: 29420.578370809555\n",
      "Accuracy for best neural network: 0.8043333333333333\n",
      "Time to infer: 0.004325151443481445\n"
     ]
    }
   ],
   "source": [
    "classifier_neural_network = MLPClassifier(random_state=42, max_iter=2000)\n",
    "param_grid = {'alpha': np.logspace(-3,3,7), 'hidden_layer_sizes': np.arange(2,25,2)}\n",
    "classifier_neural_network_best = GridSearchCV(classifier_neural_network, param_grid=param_grid, cv=4)\n",
    "\n",
    "start_time = time.time()\n",
    "classifier_neural_network_best.fit(X_KMeans_train, y_KMeans_train)\n",
    "end_time = time.time()\n",
    "time_train = end_time-start_time\n",
    "print(\"Best params for neural network:\",classifier_neural_network_best.best_params_)\n",
    "print(\"Time to train:\",time_train)\n",
    "\n",
    "start_time = time.time()\n",
    "classifier_accuracy = accuracy_score(y_KMeans_test, classifier_neural_network_best.predict(X_KMeans_test))\n",
    "end_time = time.time()\n",
    "time_infer = end_time-start_time\n",
    "print(\"Accuracy for best neural network:\", classifier_accuracy)\n",
    "print(\"Time to infer:\",time_infer)"
   ]
  },
  {
   "cell_type": "code",
   "execution_count": 8,
   "id": "royal-champion",
   "metadata": {},
   "outputs": [
    {
     "data": {
      "text/plain": [
       "array([[279,   0,   1,   0,   1,  12,   8,   0,   5,   0],\n",
       "       [  0, 331,   0,   1,   0,   0,   2,   4,   0,   2],\n",
       "       [  2,   0, 254,   7,   6,   5,  10,   2,  13,   0],\n",
       "       [  0,   2,  13, 212,   4,  18,   2,   5,  40,   3],\n",
       "       [  1,   4,   2,   0, 195,   3,  14,  12,   3,  53],\n",
       "       [  6,   2,   5,  29,   2, 199,   5,   5,   1,   4],\n",
       "       [  4,   0,   6,   1,   1,   6, 221,   2,   4,   0],\n",
       "       [  0,   4,   3,   0,   9,   0,   0, 298,   1,  19],\n",
       "       [  2,   5,  12,  27,   1,   4,   2,   4, 254,  17],\n",
       "       [  2,   4,   0,   5,  76,   5,   4,  27,  11, 170]])"
      ]
     },
     "execution_count": 8,
     "metadata": {},
     "output_type": "execute_result"
    }
   ],
   "source": [
    "confusion_matrix(y_KMeans_test, classifier_neural_network_best.predict(X_KMeans_test))"
   ]
  },
  {
   "cell_type": "code",
   "execution_count": 9,
   "id": "prerequisite-franchise",
   "metadata": {},
   "outputs": [
    {
     "data": {
      "image/png": "[encoded data removed]",
      "text/plain": [
       "<Figure size 576x360 with 1 Axes>"
      ]
     },
     "metadata": {
      "needs_background": "light"
     },
     "output_type": "display_data"
    }
   ],
   "source": [
    "classifier_neural_network_learning = MLPClassifier(random_state=42, max_iter=2000, hidden_layer_sizes=classifier_neural_network_best.best_params_['hidden_layer_sizes'], alpha=classifier_neural_network_best.best_params_['alpha'])\n",
    "_, train_scores, test_scores = learning_curve(classifier_neural_network_learning, X_KMeans_train, y_KMeans_train, train_sizes=np.linspace(0.1,1.0,10), cv=4)\n",
    "\n",
    "plt.figure(figsize=(8,5))\n",
    "plt.plot(np.linspace(0.1,1.0,10)*100, np.mean(train_scores, axis=1), label='Train Score')\n",
    "plt.plot(np.linspace(0.1,1.0,10)*100, np.mean(test_scores, axis=1), label='CV Score')\n",
    "plt.legend()\n",
    "plt.title(\"Learning Curve (PCA, K-Means)\")\n",
    "plt.xlabel(\"Percentage of Training Examples\")\n",
    "plt.ylabel(\"Score\")\n",
    "plt.xticks(np.linspace(0.1,1.0,10)*100)\n",
    "plt.grid()\n",
    "plt.savefig('minist_exp5_PCA_learning_curve_kmeans.png')\n",
    "plt.show()"
   ]
  },
  {
   "cell_type": "markdown",
   "id": "previous-invalid",
   "metadata": {},
   "source": [
    "## EM (GMM)"
   ]
  },
  {
   "cell_type": "code",
   "execution_count": 10,
   "id": "arranged-provider",
   "metadata": {},
   "outputs": [
    {
     "data": {
      "text/plain": [
       "array([[9.38489754e-005, 5.32093439e-005, 9.99802133e-001, ...,\n",
       "        3.36248721e-005, 1.71841962e-005, 1.51783520e-014],\n",
       "       [9.98959193e-001, 2.76006039e-004, 2.19710625e-037, ...,\n",
       "        4.90920865e-004, 1.99201295e-004, 7.46706824e-005],\n",
       "       [1.55366874e-008, 7.20444097e-003, 1.00829350e-030, ...,\n",
       "        7.42621156e-001, 1.12973491e-003, 2.49044652e-001],\n",
       "       ...,\n",
       "       [3.15762898e-003, 2.74480449e-004, 1.04520800e-169, ...,\n",
       "        2.57794861e-002, 2.98390600e-009, 9.70780015e-001],\n",
       "       [9.67727186e-010, 1.29782034e-002, 4.24192676e-158, ...,\n",
       "        7.55346938e-038, 9.68424196e-001, 4.80851673e-024],\n",
       "       [1.58705615e-006, 4.23889304e-003, 1.40887650e-058, ...,\n",
       "        9.95608138e-001, 6.36314197e-006, 1.45017480e-004]])"
      ]
     },
     "execution_count": 10,
     "metadata": {},
     "output_type": "execute_result"
    }
   ],
   "source": [
    "gmm = mixture.GaussianMixture(n_components=7, covariance_type='full')\n",
    "gmm.fit(X_PCA)\n",
    "gmm.predict_proba(X_PCA)"
   ]
  },
  {
   "cell_type": "code",
   "execution_count": 11,
   "id": "municipal-storage",
   "metadata": {},
   "outputs": [],
   "source": [
    "X_GMM = np.append(X_PCA, gmm.predict_proba(X_PCA), 1)\n",
    "X_GMM_train, X_GMM_test, y_GMM_train, y_GMM_test = train_test_split(X_GMM, y, test_size=0.3, random_state=42)"
   ]
  },
  {
   "cell_type": "code",
   "execution_count": 12,
   "id": "oriental-vatican",
   "metadata": {},
   "outputs": [
    {
     "name": "stdout",
     "output_type": "stream",
     "text": [
      "Best params for neural network: {'alpha': 100.0, 'hidden_layer_sizes': 22}\n",
      "Time to train: 8182.075253009796\n",
      "Accuracy for best neural network: 0.8006666666666666\n",
      "Time to infer: 0.0029938220977783203\n"
     ]
    }
   ],
   "source": [
    "classifier_neural_network = MLPClassifier(random_state=42, max_iter=2000)\n",
    "param_grid = {'alpha': np.logspace(-3,3,7), 'hidden_layer_sizes': np.arange(2,25,2)}\n",
    "classifier_neural_network_best = GridSearchCV(classifier_neural_network, param_grid=param_grid, cv=4)\n",
    "\n",
    "start_time = time.time()\n",
    "classifier_neural_network_best.fit(X_GMM_train, y_GMM_train)\n",
    "end_time = time.time()\n",
    "time_train = end_time-start_time\n",
    "print(\"Best params for neural network:\",classifier_neural_network_best.best_params_)\n",
    "print(\"Time to train:\",time_train)\n",
    "\n",
    "start_time = time.time()\n",
    "classifier_accuracy = accuracy_score(y_GMM_test, classifier_neural_network_best.predict(X_GMM_test))\n",
    "end_time = time.time()\n",
    "time_infer = end_time-start_time\n",
    "print(\"Accuracy for best neural network:\", classifier_accuracy)\n",
    "print(\"Time to infer:\",time_infer)"
   ]
  },
  {
   "cell_type": "code",
   "execution_count": 13,
   "id": "acting-uncle",
   "metadata": {},
   "outputs": [
    {
     "data": {
      "text/plain": [
       "array([[288,   0,   0,   4,   1,   4,   6,   0,   2,   1],\n",
       "       [  0, 331,   0,   1,   0,   0,   2,   4,   0,   2],\n",
       "       [  6,   1, 248,   8,   6,   2,   9,   1,  18,   0],\n",
       "       [  0,   3,  11, 219,   4,  18,   3,   3,  35,   3],\n",
       "       [  2,   3,   2,   0, 200,   2,   8,  11,   1,  58],\n",
       "       [ 12,   3,   5,  27,   5, 186,   6,   9,   0,   5],\n",
       "       [  6,   5,   8,   0,   4,   3, 218,   0,   1,   0],\n",
       "       [  1,   6,   2,   1,  11,   0,   0, 283,   2,  28],\n",
       "       [  5,   8,   7,  28,   4,   5,   4,   2, 250,  15],\n",
       "       [  4,   6,   0,   6,  71,   6,   2,  23,   7, 179]])"
      ]
     },
     "execution_count": 13,
     "metadata": {},
     "output_type": "execute_result"
    }
   ],
   "source": [
    "confusion_matrix(y_GMM_test, classifier_neural_network_best.predict(X_GMM_test))"
   ]
  },
  {
   "cell_type": "code",
   "execution_count": 14,
   "id": "behind-soundtrack",
   "metadata": {},
   "outputs": [
    {
     "data": {
      "image/png": "[encoded data removed]",
      "text/plain": [
       "<Figure size 576x360 with 1 Axes>"
      ]
     },
     "metadata": {
      "needs_background": "light"
     },
     "output_type": "display_data"
    }
   ],
   "source": [
    "classifier_neural_network_learning = MLPClassifier(random_state=42, max_iter=2000, hidden_layer_sizes=classifier_neural_network_best.best_params_['hidden_layer_sizes'], alpha=classifier_neural_network_best.best_params_['alpha'])\n",
    "_, train_scores, test_scores = learning_curve(classifier_neural_network_learning, X_GMM_train, y_GMM_train, train_sizes=np.linspace(0.1,1.0,10), cv=4)\n",
    "\n",
    "plt.figure(figsize=(8,5))\n",
    "plt.plot(np.linspace(0.1,1.0,10)*100, np.mean(train_scores, axis=1), label='Train Score')\n",
    "plt.plot(np.linspace(0.1,1.0,10)*100, np.mean(test_scores, axis=1), label='CV Score')\n",
    "plt.legend()\n",
    "plt.title(\"Learning Curve (PCA, GMM)\")\n",
    "plt.xlabel(\"Percentage of Training Examples\")\n",
    "plt.ylabel(\"Score\")\n",
    "plt.xticks(np.linspace(0.1,1.0,10)*100)\n",
    "plt.grid()\n",
    "plt.savefig('minist_exp5_PCA_learning_curve_gmm.png')\n",
    "plt.show()"
   ]
  },
  {
   "cell_type": "code",
   "execution_count": null,
   "id": "dynamic-thickness",
   "metadata": {},
   "outputs": [],
   "source": []
  }
 ],
 "metadata": {
  "kernelspec": {
   "display_name": "Python 3.8.13 ('base')",
   "language": "python",
   "name": "python3"
  },
  "language_info": {
   "codemirror_mode": {
    "name": "ipython",
    "version": 3
   },
   "file_extension": ".py",
   "mimetype": "text/x-python",
   "name": "python",
   "nbconvert_exporter": "python",
   "pygments_lexer": "ipython3",
   "version": "3.8.13"
  },
  "vscode": {
   "interpreter": {
    "hash": "d4034ec16f4178863f797ec67364e452a234f19ad2377ac4e8e1c34d4a8fe6f1"
   }
  }
 },
 "nbformat": 4,
 "nbformat_minor": 5
}
