{
 "cells": [
  {
   "cell_type": "code",
   "execution_count": 1,
   "id": "indirect-frederick",
   "metadata": {},
   "outputs": [],
   "source": [
    "%config IPCompleter.greedy=True\n",
    "%config IPCompleter.use_jedi=False"
   ]
  },
  {
   "cell_type": "code",
   "execution_count": 2,
   "id": "third-diary",
   "metadata": {},
   "outputs": [],
   "source": [
    "from sklearn import preprocessing\n",
    "from sklearn.model_selection import train_test_split\n",
    "from sklearn.decomposition import PCA\n",
    "from sklearn.decomposition import FastICA, TruncatedSVD\n",
    "from sklearn.decomposition import NMF\n",
    "from sklearn.cluster import KMeans\n",
    "from sklearn.metrics import silhouette_score, adjusted_mutual_info_score, silhouette_samples, mean_squared_error\n",
    "from sklearn.random_projection import GaussianRandomProjection\n",
    "from sklearn import mixture\n",
    "from sklearn.mixture import GaussianMixture\n",
    "from sklearn.ensemble import ExtraTreesClassifier\n",
    "from sklearn.feature_selection import SelectFromModel\n",
    "\n",
    "from sklearn.metrics import accuracy_score\n",
    "from sklearn.metrics import confusion_matrix\n",
    "from sklearn.neural_network import MLPClassifier\n",
    "\n",
    "from sklearn.model_selection import validation_curve\n",
    "from sklearn.model_selection import GridSearchCV\n",
    "from sklearn.model_selection import learning_curve\n",
    "\n",
    "from numpy import linalg as LA\n",
    "\n",
    "import matplotlib.pyplot as plt\n",
    "import matplotlib.cm as cm\n",
    "import matplotlib\n",
    "from mpl_toolkits.mplot3d import Axes3D\n",
    "\n",
    "import numpy as np\n",
    "import scipy\n",
    "from scipy.linalg import pinv\n",
    "import pandas as pd\n",
    "\n",
    "import itertools\n",
    "import scipy.stats\n",
    "\n",
    "import time\n",
    "\n",
    "import warnings\n",
    "warnings.filterwarnings('ignore')\n",
    "\n",
    "# import plotly.offline as py\n",
    "# py.init_notebook_mode(connected=True)\n",
    "\n",
    "# import plotly.graph_objs as go\n",
    "\n",
    "from sklearn.preprocessing import StandardScaler"
   ]
  },
  {
   "cell_type": "markdown",
   "id": "prescription-newsletter",
   "metadata": {},
   "source": [
    "# Data"
   ]
  },
  {
   "cell_type": "code",
   "execution_count": 3,
   "id": "spoken-recommendation",
   "metadata": {},
   "outputs": [],
   "source": [
    "df = pd.read_csv('data/minist_train.csv')\n",
    "\n",
    "df_sample = df.sample(10000)\n",
    "\n",
    "y = df_sample[df_sample.columns[0]]\n",
    "X = df_sample[df_sample.columns[1:]]\n",
    "\n",
    "# split the training and testing dataset\n",
    "X_train, X_test, y_train, y_test = train_test_split(X, y, test_size=0.2, random_state=42)"
   ]
  },
  {
   "cell_type": "markdown",
   "id": "talented-rescue",
   "metadata": {},
   "source": [
    "# Dimensionality Reduction"
   ]
  },
  {
   "cell_type": "markdown",
   "id": "chronic-forge",
   "metadata": {},
   "source": [
    "## RP"
   ]
  },
  {
   "cell_type": "code",
   "execution_count": 4,
   "id": "complimentary-cosmetic",
   "metadata": {},
   "outputs": [],
   "source": [
    "X_RP = GaussianRandomProjection(n_components = 6).fit_transform(X)"
   ]
  },
  {
   "cell_type": "markdown",
   "id": "german-drilling",
   "metadata": {},
   "source": [
    "# RP with Clustering"
   ]
  },
  {
   "cell_type": "code",
   "execution_count": 5,
   "id": "center-attribute",
   "metadata": {},
   "outputs": [
    {
     "data": {
      "text/plain": [
       "array([[2438.14459196, 1372.86857547, 2128.3300983 , ..., 1396.85660976,\n",
       "        2253.84503515, 1154.02110261],\n",
       "       [1339.66473331, 3300.66392069, 2455.87456134, ..., 2188.31001599,\n",
       "        2892.30370623, 3002.63890892],\n",
       "       [1843.76431695, 2125.08636486, 1804.84873625, ...,  671.96426431,\n",
       "        2569.00347013, 2412.05970499],\n",
       "       ...,\n",
       "       [2003.02458674, 1997.87691476, 2227.34130907, ..., 1712.7051914 ,\n",
       "        2081.4059298 , 2279.27252982],\n",
       "       [1309.36187247, 2423.61906334, 2119.70678724, ..., 2263.0365226 ,\n",
       "        1586.63709847, 2056.45591311],\n",
       "       [1104.41232415, 2068.27248513, 1636.88848137, ...,  766.01355841,\n",
       "        2100.78578119, 2007.75460432]])"
      ]
     },
     "execution_count": 5,
     "metadata": {},
     "output_type": "execute_result"
    }
   ],
   "source": [
    "k = 7\n",
    "k_means_clustering = KMeans(n_clusters=k, random_state=42)\n",
    "k_means_clustering.fit_transform(X_RP)"
   ]
  },
  {
   "cell_type": "code",
   "execution_count": 6,
   "id": "mysterious-kidney",
   "metadata": {},
   "outputs": [],
   "source": [
    "X_KMeans = np.append(X_RP, k_means_clustering.fit_transform(X_RP), 1)\n",
    "X_KMeans_train, X_KMeans_test, y_KMeans_train, y_KMeans_test = train_test_split(X_KMeans, y, test_size=0.3, random_state=42)"
   ]
  },
  {
   "cell_type": "code",
   "execution_count": 7,
   "id": "biological-harbor",
   "metadata": {},
   "outputs": [
    {
     "name": "stdout",
     "output_type": "stream",
     "text": [
      "Best params for neural network: {'alpha': 1000.0, 'hidden_layer_sizes': 20}\n",
      "Time to train: 10563.126173973083\n",
      "Accuracy for best neural network: 0.39866666666666667\n",
      "Time to infer: 0.0049648284912109375\n"
     ]
    }
   ],
   "source": [
    "classifier_neural_network = MLPClassifier(random_state=42, max_iter=2000)\n",
    "param_grid = {'alpha': np.logspace(-3,3,7), 'hidden_layer_sizes': np.arange(2,25,2)}\n",
    "classifier_neural_network_best = GridSearchCV(classifier_neural_network, param_grid=param_grid, cv=4)\n",
    "\n",
    "start_time = time.time()\n",
    "classifier_neural_network_best.fit(X_KMeans_train, y_KMeans_train)\n",
    "end_time = time.time()\n",
    "time_train = end_time-start_time\n",
    "print(\"Best params for neural network:\",classifier_neural_network_best.best_params_)\n",
    "print(\"Time to train:\",time_train)\n",
    "\n",
    "start_time = time.time()\n",
    "classifier_accuracy = accuracy_score(y_KMeans_test, classifier_neural_network_best.predict(X_KMeans_test))\n",
    "end_time = time.time()\n",
    "time_infer = end_time-start_time\n",
    "print(\"Accuracy for best neural network:\", classifier_accuracy)\n",
    "print(\"Time to infer:\",time_infer)"
   ]
  },
  {
   "cell_type": "code",
   "execution_count": 8,
   "id": "royal-champion",
   "metadata": {},
   "outputs": [
    {
     "data": {
      "text/plain": [
       "array([[151,  14,  11,  29,   6,  14,  20,  28,  17,   1],\n",
       "       [  5, 227,   7,   8,   6,  15,  24,   8,   8,  11],\n",
       "       [ 25,  17,  90,  41,  30,   3,  57,  17,  23,  11],\n",
       "       [ 15,   9,  16, 185,  10,   9,  21,  31,   4,  42],\n",
       "       [ 30,  23,  24,  38,  69,   9,  54,  31,  16,  22],\n",
       "       [ 42,  17,  22,  38,   6,  44,  20,  23,  20,  15],\n",
       "       [ 33,  20,  37,  21,  24,   7, 102,  18,   6,   9],\n",
       "       [ 23,  41,   2,  34,   5,   6,  14, 141,   1,  31],\n",
       "       [ 37,  20,  31,  27,  14,  13,  29,  12,  90,  15],\n",
       "       [ 17,  42,   3,  48,  21,   8,  17,  51,   4,  97]])"
      ]
     },
     "execution_count": 8,
     "metadata": {},
     "output_type": "execute_result"
    }
   ],
   "source": [
    "confusion_matrix(y_KMeans_test, classifier_neural_network_best.predict(X_KMeans_test))"
   ]
  },
  {
   "cell_type": "code",
   "execution_count": 9,
   "id": "prerequisite-franchise",
   "metadata": {},
   "outputs": [
    {
     "data": {
      "image/png": "[encoded data removed]",
      "text/plain": [
       "<Figure size 576x360 with 1 Axes>"
      ]
     },
     "metadata": {
      "needs_background": "light"
     },
     "output_type": "display_data"
    }
   ],
   "source": [
    "classifier_neural_network_learning = MLPClassifier(random_state=42, max_iter=2000, hidden_layer_sizes=classifier_neural_network_best.best_params_['hidden_layer_sizes'], alpha=classifier_neural_network_best.best_params_['alpha'])\n",
    "_, train_scores, test_scores = learning_curve(classifier_neural_network_learning, X_KMeans_train, y_KMeans_train, train_sizes=np.linspace(0.1,1.0,10), cv=4)\n",
    "\n",
    "plt.figure(figsize=(8,5))\n",
    "plt.plot(np.linspace(0.1,1.0,10)*100, np.mean(train_scores, axis=1), label='Train Score')\n",
    "plt.plot(np.linspace(0.1,1.0,10)*100, np.mean(test_scores, axis=1), label='CV Score')\n",
    "plt.legend()\n",
    "plt.title(\"Learning Curve (RP, K-Means)\")\n",
    "plt.xlabel(\"Percentage of Training Examples\")\n",
    "plt.ylabel(\"Score\")\n",
    "plt.xticks(np.linspace(0.1,1.0,10)*100)\n",
    "plt.grid()\n",
    "plt.savefig('minist_exp5_RP_learning_curve_kmeans.png')\n",
    "plt.show()"
   ]
  },
  {
   "cell_type": "markdown",
   "id": "previous-invalid",
   "metadata": {},
   "source": [
    "## EM (GMM)"
   ]
  },
  {
   "cell_type": "code",
   "execution_count": 10,
   "id": "arranged-provider",
   "metadata": {},
   "outputs": [
    {
     "data": {
      "text/plain": [
       "array([[2.42698987e-02, 8.40973878e-02, 7.66025018e-01, ...,\n",
       "        3.93453418e-03, 6.82222738e-02, 3.60101266e-02],\n",
       "       [2.96169053e-01, 2.52968394e-03, 1.16986367e-03, ...,\n",
       "        6.46746978e-05, 7.00063846e-01, 2.64440976e-17],\n",
       "       [7.07962008e-03, 1.03311670e-01, 1.11910993e-01, ...,\n",
       "        3.30627964e-04, 7.77094645e-01, 2.39448488e-07],\n",
       "       ...,\n",
       "       [2.80081704e-01, 5.28279047e-01, 1.46667081e-01, ...,\n",
       "        1.00889322e-03, 3.48943049e-02, 2.12913337e-08],\n",
       "       [8.80638628e-01, 1.45770417e-02, 2.23393958e-02, ...,\n",
       "        2.24032154e-02, 3.97083012e-02, 5.95212182e-08],\n",
       "       [1.34107253e-01, 9.65215973e-02, 1.06044156e-01, ...,\n",
       "        4.97753453e-03, 6.57517021e-01, 1.13048855e-05]])"
      ]
     },
     "execution_count": 10,
     "metadata": {},
     "output_type": "execute_result"
    }
   ],
   "source": [
    "gmm = mixture.GaussianMixture(n_components=7, covariance_type='full')\n",
    "gmm.fit(X_RP)\n",
    "gmm.predict_proba(X_RP)"
   ]
  },
  {
   "cell_type": "code",
   "execution_count": 11,
   "id": "municipal-storage",
   "metadata": {},
   "outputs": [],
   "source": [
    "X_GMM = np.append(X_RP, gmm.predict_proba(X_RP), 1)\n",
    "X_GMM_train, X_GMM_test, y_GMM_train, y_GMM_test = train_test_split(X_GMM, y, test_size=0.3, random_state=42)"
   ]
  },
  {
   "cell_type": "code",
   "execution_count": 12,
   "id": "oriental-vatican",
   "metadata": {},
   "outputs": [
    {
     "name": "stdout",
     "output_type": "stream",
     "text": [
      "Best params for neural network: {'alpha': 100.0, 'hidden_layer_sizes': 18}\n",
      "Time to train: 21044.65128183365\n",
      "Accuracy for best neural network: 0.4136666666666667\n",
      "Time to infer: 0.008261919021606445\n"
     ]
    }
   ],
   "source": [
    "classifier_neural_network = MLPClassifier(random_state=42, max_iter=2000)\n",
    "param_grid = {'alpha': np.logspace(-3,3,7), 'hidden_layer_sizes': np.arange(2,25,2)}\n",
    "classifier_neural_network_best = GridSearchCV(classifier_neural_network, param_grid=param_grid, cv=4)\n",
    "\n",
    "start_time = time.time()\n",
    "classifier_neural_network_best.fit(X_GMM_train, y_GMM_train)\n",
    "end_time = time.time()\n",
    "time_train = end_time-start_time\n",
    "print(\"Best params for neural network:\",classifier_neural_network_best.best_params_)\n",
    "print(\"Time to train:\",time_train)\n",
    "\n",
    "start_time = time.time()\n",
    "classifier_accuracy = accuracy_score(y_GMM_test, classifier_neural_network_best.predict(X_GMM_test))\n",
    "end_time = time.time()\n",
    "time_infer = end_time-start_time\n",
    "print(\"Accuracy for best neural network:\", classifier_accuracy)\n",
    "print(\"Time to infer:\",time_infer)"
   ]
  },
  {
   "cell_type": "code",
   "execution_count": 13,
   "id": "acting-uncle",
   "metadata": {},
   "outputs": [
    {
     "data": {
      "text/plain": [
       "array([[155,  22,  20,  13,  14,   9,  17,  16,  21,   4],\n",
       "       [  6, 263,  11,   1,  10,   1,  10,  11,   4,   2],\n",
       "       [ 22,  15, 117,  19,  53,   2,  38,   7,  28,  13],\n",
       "       [ 26,  16,  21, 153,  42,   2,  16,  12,   7,  47],\n",
       "       [ 29,  32,  29,  16, 113,   3,  45,  15,  12,  22],\n",
       "       [ 44,  26,  26,  28,  11,  35,  20,  11,  30,  16],\n",
       "       [ 30,  36,  53,  12,  36,   5,  83,   6,   9,   7],\n",
       "       [ 26,  47,   2,  20,  29,   4,  13, 116,   0,  41],\n",
       "       [ 45,  21,  44,  15,  21,   7,  19,   5,  90,  21],\n",
       "       [ 17,  49,   5,  23,  28,   2,  20,  36,  12, 116]])"
      ]
     },
     "execution_count": 13,
     "metadata": {},
     "output_type": "execute_result"
    }
   ],
   "source": [
    "confusion_matrix(y_GMM_test, classifier_neural_network_best.predict(X_GMM_test))"
   ]
  },
  {
   "cell_type": "code",
   "execution_count": 14,
   "id": "behind-soundtrack",
   "metadata": {},
   "outputs": [
    {
     "data": {
      "image/png": "[encoded data removed]",
      "text/plain": [
       "<Figure size 576x360 with 1 Axes>"
      ]
     },
     "metadata": {
      "needs_background": "light"
     },
     "output_type": "display_data"
    }
   ],
   "source": [
    "classifier_neural_network_learning = MLPClassifier(random_state=42, max_iter=2000, hidden_layer_sizes=classifier_neural_network_best.best_params_['hidden_layer_sizes'], alpha=classifier_neural_network_best.best_params_['alpha'])\n",
    "_, train_scores, test_scores = learning_curve(classifier_neural_network_learning, X_GMM_train, y_GMM_train, train_sizes=np.linspace(0.1,1.0,10), cv=4)\n",
    "\n",
    "plt.figure(figsize=(8,5))\n",
    "plt.plot(np.linspace(0.1,1.0,10)*100, np.mean(train_scores, axis=1), label='Train Score')\n",
    "plt.plot(np.linspace(0.1,1.0,10)*100, np.mean(test_scores, axis=1), label='CV Score')\n",
    "plt.legend()\n",
    "plt.title(\"Learning Curve (RP, GMM)\")\n",
    "plt.xlabel(\"Percentage of Training Examples\")\n",
    "plt.ylabel(\"Score\")\n",
    "plt.xticks(np.linspace(0.1,1.0,10)*100)\n",
    "plt.grid()\n",
    "plt.savefig('minist_exp5_RP_learning_curve_gmm.png')\n",
    "plt.show()"
   ]
  },
  {
   "cell_type": "code",
   "execution_count": null,
   "id": "dynamic-thickness",
   "metadata": {},
   "outputs": [],
   "source": []
  }
 ],
 "metadata": {
  "kernelspec": {
   "display_name": "Python 3.8.13 ('base')",
   "language": "python",
   "name": "python3"
  },
  "language_info": {
   "codemirror_mode": {
    "name": "ipython",
    "version": 3
   },
   "file_extension": ".py",
   "mimetype": "text/x-python",
   "name": "python",
   "nbconvert_exporter": "python",
   "pygments_lexer": "ipython3",
   "version": "3.8.13"
  },
  "vscode": {
   "interpreter": {
    "hash": "d4034ec16f4178863f797ec67364e452a234f19ad2377ac4e8e1c34d4a8fe6f1"
   }
  }
 },
 "nbformat": 4,
 "nbformat_minor": 5
}
