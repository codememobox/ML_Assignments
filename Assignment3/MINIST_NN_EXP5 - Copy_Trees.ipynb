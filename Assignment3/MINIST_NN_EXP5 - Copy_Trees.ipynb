{
 "cells": [
  {
   "cell_type": "code",
   "execution_count": 1,
   "id": "indirect-frederick",
   "metadata": {},
   "outputs": [],
   "source": [
    "%config IPCompleter.greedy=True\n",
    "%config IPCompleter.use_jedi=False"
   ]
  },
  {
   "cell_type": "code",
   "execution_count": 2,
   "id": "third-diary",
   "metadata": {},
   "outputs": [],
   "source": [
    "from sklearn import preprocessing\n",
    "from sklearn.model_selection import train_test_split\n",
    "from sklearn.decomposition import PCA\n",
    "from sklearn.decomposition import FastICA, TruncatedSVD\n",
    "from sklearn.decomposition import NMF\n",
    "from sklearn.cluster import KMeans\n",
    "from sklearn.metrics import silhouette_score, adjusted_mutual_info_score, silhouette_samples, mean_squared_error\n",
    "from sklearn.random_projection import GaussianRandomProjection\n",
    "from sklearn import mixture\n",
    "from sklearn.mixture import GaussianMixture\n",
    "from sklearn.ensemble import ExtraTreesClassifier\n",
    "from sklearn.feature_selection import SelectFromModel\n",
    "\n",
    "from sklearn.metrics import accuracy_score\n",
    "from sklearn.metrics import confusion_matrix\n",
    "from sklearn.neural_network import MLPClassifier\n",
    "\n",
    "from sklearn.model_selection import validation_curve\n",
    "from sklearn.model_selection import GridSearchCV\n",
    "from sklearn.model_selection import learning_curve\n",
    "\n",
    "from numpy import linalg as LA\n",
    "\n",
    "import matplotlib.pyplot as plt\n",
    "import matplotlib.cm as cm\n",
    "import matplotlib\n",
    "from mpl_toolkits.mplot3d import Axes3D\n",
    "\n",
    "import numpy as np\n",
    "import scipy\n",
    "from scipy.linalg import pinv\n",
    "import pandas as pd\n",
    "\n",
    "import itertools\n",
    "import scipy.stats\n",
    "\n",
    "import time\n",
    "\n",
    "import warnings\n",
    "warnings.filterwarnings('ignore')\n",
    "\n",
    "# import plotly.offline as py\n",
    "# py.init_notebook_mode(connected=True)\n",
    "\n",
    "# import plotly.graph_objs as go\n",
    "\n",
    "from sklearn.preprocessing import StandardScaler"
   ]
  },
  {
   "cell_type": "markdown",
   "id": "prescription-newsletter",
   "metadata": {},
   "source": [
    "# Data"
   ]
  },
  {
   "cell_type": "code",
   "execution_count": 3,
   "id": "spoken-recommendation",
   "metadata": {},
   "outputs": [],
   "source": [
    "df = pd.read_csv('data/minist_train.csv')\n",
    "\n",
    "df_sample = df.sample(10000)\n",
    "\n",
    "y = df_sample[df_sample.columns[0]]\n",
    "X= df_sample[df_sample.columns[1:]]\n",
    "\n",
    "# split the training and testing dataset\n",
    "X_train, X_test, y_train, y_test = train_test_split(X, y, test_size=0.2, random_state=42)"
   ]
  },
  {
   "cell_type": "markdown",
   "id": "talented-rescue",
   "metadata": {},
   "source": [
    "# Dimensionality Reduction"
   ]
  },
  {
   "cell_type": "markdown",
   "id": "fifth-output",
   "metadata": {},
   "source": [
    "## Feature Selection using Trees"
   ]
  },
  {
   "cell_type": "code",
   "execution_count": 4,
   "id": "portuguese-federation",
   "metadata": {},
   "outputs": [],
   "source": [
    "etc = ExtraTreesClassifier(n_estimators = 100)\n",
    "etc = etc.fit(X,y)\n",
    "model = SelectFromModel(etc, prefit=True)\n",
    "X_Trees = model.transform(X)"
   ]
  },
  {
   "cell_type": "markdown",
   "id": "german-drilling",
   "metadata": {},
   "source": [
    "# Trees with Clustering"
   ]
  },
  {
   "cell_type": "code",
   "execution_count": 5,
   "id": "center-attribute",
   "metadata": {},
   "outputs": [
    {
     "data": {
      "text/plain": [
       "array([[1912.98549754, 1852.44941506, 1875.6576881 , ..., 1941.59340441,\n",
       "        1820.63501757, 1997.52766396],\n",
       "       [1576.24127051, 2025.33588408, 1882.72114385, ..., 1845.55508952,\n",
       "        2149.95234761, 1529.05171051],\n",
       "       [1915.96027258, 1940.97488933, 1716.08830629, ..., 1952.85926649,\n",
       "        2116.67731595, 2087.00591822],\n",
       "       ...,\n",
       "       [1673.67005124, 1759.83636943, 1831.75604043, ..., 1864.68098278,\n",
       "        2250.50326689, 1664.75477254],\n",
       "       [1597.86864828, 1793.85313356, 2091.49063064, ..., 1867.4598203 ,\n",
       "        2298.37025028, 1762.28829702],\n",
       "       [1744.76779473, 1451.18291203, 1732.36557423, ..., 1617.85922729,\n",
       "        2106.79370914, 1575.04705524]])"
      ]
     },
     "execution_count": 5,
     "metadata": {},
     "output_type": "execute_result"
    }
   ],
   "source": [
    "k = 7\n",
    "k_means_clustering = KMeans(n_clusters=k, random_state=42)\n",
    "k_means_clustering.fit_transform(X_Trees)"
   ]
  },
  {
   "cell_type": "code",
   "execution_count": 6,
   "id": "mysterious-kidney",
   "metadata": {},
   "outputs": [],
   "source": [
    "X_KMeans = np.append(X_Trees, k_means_clustering.fit_transform(X_Trees), 1)\n",
    "X_KMeans_train, X_KMeans_test, y_KMeans_train, y_KMeans_test = train_test_split(X_KMeans, y, test_size=0.3, random_state=42)"
   ]
  },
  {
   "cell_type": "code",
   "execution_count": 7,
   "id": "biological-harbor",
   "metadata": {},
   "outputs": [
    {
     "name": "stdout",
     "output_type": "stream",
     "text": [
      "Best params for neural network: {'alpha': 100.0, 'hidden_layer_sizes': 18}\n",
      "Time to train: 40946.196116924286\n",
      "Accuracy for best neural network: 0.8963333333333333\n",
      "Time to infer: 0.0052187442779541016\n"
     ]
    }
   ],
   "source": [
    "classifier_neural_network = MLPClassifier(random_state=42, max_iter=2000)\n",
    "param_grid = {'alpha': np.logspace(-3,3,7), 'hidden_layer_sizes': np.arange(2,25,2)}\n",
    "classifier_neural_network_best = GridSearchCV(classifier_neural_network, param_grid=param_grid, cv=4)\n",
    "\n",
    "start_time = time.time()\n",
    "classifier_neural_network_best.fit(X_KMeans_train, y_KMeans_train)\n",
    "end_time = time.time()\n",
    "time_train = end_time-start_time\n",
    "print(\"Best params for neural network:\",classifier_neural_network_best.best_params_)\n",
    "print(\"Time to train:\",time_train)\n",
    "\n",
    "start_time = time.time()\n",
    "classifier_accuracy = accuracy_score(y_KMeans_test, classifier_neural_network_best.predict(X_KMeans_test))\n",
    "end_time = time.time()\n",
    "time_infer = end_time-start_time\n",
    "print(\"Accuracy for best neural network:\", classifier_accuracy)\n",
    "print(\"Time to infer:\",time_infer)"
   ]
  },
  {
   "cell_type": "code",
   "execution_count": 8,
   "id": "royal-champion",
   "metadata": {},
   "outputs": [
    {
     "data": {
      "text/plain": [
       "array([[276,   0,   8,   0,   1,   5,   3,   0,   3,   4],\n",
       "       [  0, 303,   2,   1,   0,   1,   2,   2,  10,   3],\n",
       "       [  2,   3, 277,   1,   6,   0,   7,   3,   4,  11],\n",
       "       [  0,   1,   7, 225,   2,  10,   6,   4,  14,   6],\n",
       "       [  0,   0,   3,   0, 281,   0,   1,   0,   1,  14],\n",
       "       [  3,   1,  10,   4,  10, 206,   3,   5,   6,   8],\n",
       "       [  0,   0,   2,   0,   4,   2, 296,   0,   0,   0],\n",
       "       [  0,   1,   8,   1,   6,   0,   0, 268,   1,  17],\n",
       "       [  0,   4,   6,   3,   5,   5,   2,   0, 247,  11],\n",
       "       [  2,   0,   2,   3,  14,   1,   0,   6,   4, 310]])"
      ]
     },
     "execution_count": 8,
     "metadata": {},
     "output_type": "execute_result"
    }
   ],
   "source": [
    "confusion_matrix(y_KMeans_test, classifier_neural_network_best.predict(X_KMeans_test))"
   ]
  },
  {
   "cell_type": "code",
   "execution_count": 9,
   "id": "prerequisite-franchise",
   "metadata": {},
   "outputs": [
    {
     "data": {
      "image/png": "[encoded data removed]",
      "text/plain": [
       "<Figure size 576x360 with 1 Axes>"
      ]
     },
     "metadata": {
      "needs_background": "light"
     },
     "output_type": "display_data"
    }
   ],
   "source": [
    "classifier_neural_network_learning = MLPClassifier(random_state=42, max_iter=2000, hidden_layer_sizes=classifier_neural_network_best.best_params_['hidden_layer_sizes'], alpha=classifier_neural_network_best.best_params_['alpha'])\n",
    "_, train_scores, test_scores = learning_curve(classifier_neural_network_learning, X_KMeans_train, y_KMeans_train, train_sizes=np.linspace(0.1,1.0,10), cv=4)\n",
    "\n",
    "plt.figure(figsize=(8,5))\n",
    "plt.plot(np.linspace(0.1,1.0,10)*100, np.mean(train_scores, axis=1), label='Train Score')\n",
    "plt.plot(np.linspace(0.1,1.0,10)*100, np.mean(test_scores, axis=1), label='CV Score')\n",
    "plt.legend()\n",
    "plt.title(\"Learning Curve (Trees, K-Means)\")\n",
    "plt.xlabel(\"Percentage of Training Examples\")\n",
    "plt.ylabel(\"Score\")\n",
    "plt.xticks(np.linspace(0.1,1.0,10)*100)\n",
    "plt.grid()\n",
    "plt.savefig('minist_exp5_Trees_learning_curve_kmeans.png')\n",
    "plt.show()"
   ]
  },
  {
   "cell_type": "markdown",
   "id": "previous-invalid",
   "metadata": {},
   "source": [
    "## EM (GMM)"
   ]
  },
  {
   "cell_type": "code",
   "execution_count": 10,
   "id": "arranged-provider",
   "metadata": {},
   "outputs": [
    {
     "data": {
      "text/plain": [
       "array([[7.79307632e-019, 0.00000000e+000, 1.00000000e+000, ...,\n",
       "        1.52880874e-116, 0.00000000e+000, 0.00000000e+000],\n",
       "       [0.00000000e+000, 0.00000000e+000, 1.22065095e-159, ...,\n",
       "        0.00000000e+000, 8.41816306e-150, 1.00000000e+000],\n",
       "       [1.00000000e+000, 0.00000000e+000, 4.61102231e-158, ...,\n",
       "        0.00000000e+000, 0.00000000e+000, 0.00000000e+000],\n",
       "       ...,\n",
       "       [0.00000000e+000, 0.00000000e+000, 2.47140714e-112, ...,\n",
       "        0.00000000e+000, 1.19263959e-127, 1.00000000e+000],\n",
       "       [0.00000000e+000, 0.00000000e+000, 2.04529911e-091, ...,\n",
       "        3.08258489e-227, 6.16382254e-148, 1.00000000e+000],\n",
       "       [0.00000000e+000, 0.00000000e+000, 1.42833405e-153, ...,\n",
       "        0.00000000e+000, 5.80545198e-159, 1.00000000e+000]])"
      ]
     },
     "execution_count": 10,
     "metadata": {},
     "output_type": "execute_result"
    }
   ],
   "source": [
    "gmm = mixture.GaussianMixture(n_components=7, covariance_type='full')\n",
    "gmm.fit(X_Trees)\n",
    "gmm.predict_proba(X_Trees)"
   ]
  },
  {
   "cell_type": "code",
   "execution_count": 11,
   "id": "municipal-storage",
   "metadata": {},
   "outputs": [],
   "source": [
    "X_GMM = np.append(X_Trees, gmm.predict_proba(X_Trees), 1)\n",
    "X_GMM_train, X_GMM_test, y_GMM_train, y_GMM_test = train_test_split(X_GMM, y, test_size=0.3, random_state=42)"
   ]
  },
  {
   "cell_type": "code",
   "execution_count": 12,
   "id": "oriental-vatican",
   "metadata": {},
   "outputs": [
    {
     "name": "stdout",
     "output_type": "stream",
     "text": [
      "Best params for neural network: {'alpha': 100.0, 'hidden_layer_sizes': 22}\n",
      "Time to train: 11712.34471988678\n",
      "Accuracy for best neural network: 0.931\n",
      "Time to infer: 0.006189107894897461\n"
     ]
    }
   ],
   "source": [
    "classifier_neural_network = MLPClassifier(random_state=42, max_iter=2000)\n",
    "param_grid = {'alpha': np.logspace(-3,3,7), 'hidden_layer_sizes': np.arange(2,25,2)}\n",
    "classifier_neural_network_best = GridSearchCV(classifier_neural_network, param_grid=param_grid, cv=4)\n",
    "\n",
    "start_time = time.time()\n",
    "classifier_neural_network_best.fit(X_GMM_train, y_GMM_train)\n",
    "end_time = time.time()\n",
    "time_train = end_time-start_time\n",
    "print(\"Best params for neural network:\",classifier_neural_network_best.best_params_)\n",
    "print(\"Time to train:\",time_train)\n",
    "\n",
    "start_time = time.time()\n",
    "classifier_accuracy = accuracy_score(y_GMM_test, classifier_neural_network_best.predict(X_GMM_test))\n",
    "end_time = time.time()\n",
    "time_infer = end_time-start_time\n",
    "print(\"Accuracy for best neural network:\", classifier_accuracy)\n",
    "print(\"Time to infer:\",time_infer)"
   ]
  },
  {
   "cell_type": "code",
   "execution_count": 13,
   "id": "acting-uncle",
   "metadata": {},
   "outputs": [
    {
     "data": {
      "text/plain": [
       "array([[294,   0,   0,   0,   0,   2,   2,   0,   0,   2],\n",
       "       [  0, 316,   2,   1,   1,   0,   1,   1,   2,   0],\n",
       "       [  7,   6, 291,   1,   2,   1,   3,   1,   2,   0],\n",
       "       [  2,   2,   8, 240,   0,   8,   4,   2,   5,   4],\n",
       "       [  0,   0,   4,   0, 280,   1,   7,   0,   1,   7],\n",
       "       [  5,   0,   2,  10,   1, 229,   6,   1,   0,   2],\n",
       "       [  1,   0,   0,   0,   0,   0, 303,   0,   0,   0],\n",
       "       [  1,   6,   6,   0,   4,   0,   0, 282,   0,   3],\n",
       "       [  4,   4,   3,   6,   1,   8,   4,   1, 250,   2],\n",
       "       [  3,   0,   0,   7,  13,   3,   1,   6,   1, 308]])"
      ]
     },
     "execution_count": 13,
     "metadata": {},
     "output_type": "execute_result"
    }
   ],
   "source": [
    "confusion_matrix(y_GMM_test, classifier_neural_network_best.predict(X_GMM_test))"
   ]
  },
  {
   "cell_type": "code",
   "execution_count": 14,
   "id": "behind-soundtrack",
   "metadata": {},
   "outputs": [
    {
     "data": {
      "image/png": "[encoded data removed]",
      "text/plain": [
       "<Figure size 576x360 with 1 Axes>"
      ]
     },
     "metadata": {
      "needs_background": "light"
     },
     "output_type": "display_data"
    }
   ],
   "source": [
    "classifier_neural_network_learning = MLPClassifier(random_state=42, max_iter=2000, hidden_layer_sizes=classifier_neural_network_best.best_params_['hidden_layer_sizes'], alpha=classifier_neural_network_best.best_params_['alpha'])\n",
    "_, train_scores, test_scores = learning_curve(classifier_neural_network_learning, X_GMM_train, y_GMM_train, train_sizes=np.linspace(0.1,1.0,10), cv=4)\n",
    "\n",
    "plt.figure(figsize=(8,5))\n",
    "plt.plot(np.linspace(0.1,1.0,10)*100, np.mean(train_scores, axis=1), label='Train Score')\n",
    "plt.plot(np.linspace(0.1,1.0,10)*100, np.mean(test_scores, axis=1), label='CV Score')\n",
    "plt.legend()\n",
    "plt.title(\"Learning Curve (Trees, GMM)\")\n",
    "plt.xlabel(\"Percentage of Training Examples\")\n",
    "plt.ylabel(\"Score\")\n",
    "plt.xticks(np.linspace(0.1,1.0,10)*100)\n",
    "plt.grid()\n",
    "plt.savefig('minist_exp5_Trees_learning_curve_gmm.png')\n",
    "plt.show()"
   ]
  },
  {
   "cell_type": "code",
   "execution_count": null,
   "id": "dynamic-thickness",
   "metadata": {},
   "outputs": [],
   "source": []
  }
 ],
 "metadata": {
  "kernelspec": {
   "display_name": "Python 3.8.13 ('base')",
   "language": "python",
   "name": "python3"
  },
  "language_info": {
   "codemirror_mode": {
    "name": "ipython",
    "version": 3
   },
   "file_extension": ".py",
   "mimetype": "text/x-python",
   "name": "python",
   "nbconvert_exporter": "python",
   "pygments_lexer": "ipython3",
   "version": "3.8.13"
  },
  "vscode": {
   "interpreter": {
    "hash": "d4034ec16f4178863f797ec67364e452a234f19ad2377ac4e8e1c34d4a8fe6f1"
   }
  }
 },
 "nbformat": 4,
 "nbformat_minor": 5
}
