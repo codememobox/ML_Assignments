{
 "cells": [
  {
   "cell_type": "markdown",
   "id": "7e6c62b5",
   "metadata": {},
   "source": [
    "# Project: Digit Recognition Classification\n",
    "data sources: https://www.kaggle.com/code/jianyzhu/minist-digital-recognition/data\n",
    "## 1 Data Pre-processing"
   ]
  },
  {
   "cell_type": "code",
   "execution_count": 20,
   "id": "e5a7599a",
   "metadata": {},
   "outputs": [],
   "source": [
    "# import libraries\n",
    "import numpy as np\n",
    "import pandas as pd\n",
    "import matplotlib.pyplot as plt\n",
    "import seaborn as sns\n",
    "import re\n",
    "\n",
    "from sklearn.preprocessing import StandardScaler\n",
    "from sklearn.model_selection import train_test_split\n",
    "from sklearn.model_selection import GridSearchCV\n",
    "from sklearn.model_selection import learning_curve\n",
    "from sklearn.model_selection import ShuffleSplit\n",
    "from sklearn.tree import DecisionTreeClassifier\n",
    "from sklearn.neural_network import MLPClassifier\n",
    "from sklearn.ensemble import GradientBoostingClassifier\n",
    "from sklearn.svm import SVC\n",
    "from sklearn.neighbors import KNeighborsClassifier\n",
    "from sklearn.metrics import mean_squared_error\n",
    "from sklearn.metrics import r2_score\n",
    "from sklearn.metrics import confusion_matrix\n",
    "from sklearn.metrics import plot_confusion_matrix\n",
    "from sklearn.metrics import recall_score\n",
    "from sklearn.metrics import precision_score\n",
    "from sklearn.metrics import f1_score\n",
    "from sklearn.metrics import make_scorer\n",
    "from sklearn.metrics import accuracy_score\n",
    "from sklearn.metrics import classification_report"
   ]
  },
  {
   "cell_type": "code",
   "execution_count": 2,
   "id": "fc0c0dd1",
   "metadata": {},
   "outputs": [
    {
     "data": {
      "text/html": [
       "<div>\n",
       "<style scoped>\n",
       "    .dataframe tbody tr th:only-of-type {\n",
       "        vertical-align: middle;\n",
       "    }\n",
       "\n",
       "    .dataframe tbody tr th {\n",
       "        vertical-align: top;\n",
       "    }\n",
       "\n",
       "    .dataframe thead th {\n",
       "        text-align: right;\n",
       "    }\n",
       "</style>\n",
       "<table border=\"1\" class=\"dataframe\">\n",
       "  <thead>\n",
       "    <tr style=\"text-align: right;\">\n",
       "      <th></th>\n",
       "      <th>label</th>\n",
       "      <th>pixel0</th>\n",
       "      <th>pixel1</th>\n",
       "      <th>pixel2</th>\n",
       "      <th>pixel3</th>\n",
       "      <th>pixel4</th>\n",
       "      <th>pixel5</th>\n",
       "      <th>pixel6</th>\n",
       "      <th>pixel7</th>\n",
       "      <th>pixel8</th>\n",
       "      <th>...</th>\n",
       "      <th>pixel774</th>\n",
       "      <th>pixel775</th>\n",
       "      <th>pixel776</th>\n",
       "      <th>pixel777</th>\n",
       "      <th>pixel778</th>\n",
       "      <th>pixel779</th>\n",
       "      <th>pixel780</th>\n",
       "      <th>pixel781</th>\n",
       "      <th>pixel782</th>\n",
       "      <th>pixel783</th>\n",
       "    </tr>\n",
       "  </thead>\n",
       "  <tbody>\n",
       "    <tr>\n",
       "      <th>0</th>\n",
       "      <td>1</td>\n",
       "      <td>0</td>\n",
       "      <td>0</td>\n",
       "      <td>0</td>\n",
       "      <td>0</td>\n",
       "      <td>0</td>\n",
       "      <td>0</td>\n",
       "      <td>0</td>\n",
       "      <td>0</td>\n",
       "      <td>0</td>\n",
       "      <td>...</td>\n",
       "      <td>0</td>\n",
       "      <td>0</td>\n",
       "      <td>0</td>\n",
       "      <td>0</td>\n",
       "      <td>0</td>\n",
       "      <td>0</td>\n",
       "      <td>0</td>\n",
       "      <td>0</td>\n",
       "      <td>0</td>\n",
       "      <td>0</td>\n",
       "    </tr>\n",
       "    <tr>\n",
       "      <th>1</th>\n",
       "      <td>0</td>\n",
       "      <td>0</td>\n",
       "      <td>0</td>\n",
       "      <td>0</td>\n",
       "      <td>0</td>\n",
       "      <td>0</td>\n",
       "      <td>0</td>\n",
       "      <td>0</td>\n",
       "      <td>0</td>\n",
       "      <td>0</td>\n",
       "      <td>...</td>\n",
       "      <td>0</td>\n",
       "      <td>0</td>\n",
       "      <td>0</td>\n",
       "      <td>0</td>\n",
       "      <td>0</td>\n",
       "      <td>0</td>\n",
       "      <td>0</td>\n",
       "      <td>0</td>\n",
       "      <td>0</td>\n",
       "      <td>0</td>\n",
       "    </tr>\n",
       "    <tr>\n",
       "      <th>2</th>\n",
       "      <td>1</td>\n",
       "      <td>0</td>\n",
       "      <td>0</td>\n",
       "      <td>0</td>\n",
       "      <td>0</td>\n",
       "      <td>0</td>\n",
       "      <td>0</td>\n",
       "      <td>0</td>\n",
       "      <td>0</td>\n",
       "      <td>0</td>\n",
       "      <td>...</td>\n",
       "      <td>0</td>\n",
       "      <td>0</td>\n",
       "      <td>0</td>\n",
       "      <td>0</td>\n",
       "      <td>0</td>\n",
       "      <td>0</td>\n",
       "      <td>0</td>\n",
       "      <td>0</td>\n",
       "      <td>0</td>\n",
       "      <td>0</td>\n",
       "    </tr>\n",
       "    <tr>\n",
       "      <th>3</th>\n",
       "      <td>4</td>\n",
       "      <td>0</td>\n",
       "      <td>0</td>\n",
       "      <td>0</td>\n",
       "      <td>0</td>\n",
       "      <td>0</td>\n",
       "      <td>0</td>\n",
       "      <td>0</td>\n",
       "      <td>0</td>\n",
       "      <td>0</td>\n",
       "      <td>...</td>\n",
       "      <td>0</td>\n",
       "      <td>0</td>\n",
       "      <td>0</td>\n",
       "      <td>0</td>\n",
       "      <td>0</td>\n",
       "      <td>0</td>\n",
       "      <td>0</td>\n",
       "      <td>0</td>\n",
       "      <td>0</td>\n",
       "      <td>0</td>\n",
       "    </tr>\n",
       "    <tr>\n",
       "      <th>4</th>\n",
       "      <td>0</td>\n",
       "      <td>0</td>\n",
       "      <td>0</td>\n",
       "      <td>0</td>\n",
       "      <td>0</td>\n",
       "      <td>0</td>\n",
       "      <td>0</td>\n",
       "      <td>0</td>\n",
       "      <td>0</td>\n",
       "      <td>0</td>\n",
       "      <td>...</td>\n",
       "      <td>0</td>\n",
       "      <td>0</td>\n",
       "      <td>0</td>\n",
       "      <td>0</td>\n",
       "      <td>0</td>\n",
       "      <td>0</td>\n",
       "      <td>0</td>\n",
       "      <td>0</td>\n",
       "      <td>0</td>\n",
       "      <td>0</td>\n",
       "    </tr>\n",
       "  </tbody>\n",
       "</table>\n",
       "<p>5 rows × 785 columns</p>\n",
       "</div>"
      ],
      "text/plain": [
       "   label  pixel0  pixel1  pixel2  pixel3  pixel4  pixel5  pixel6  pixel7  \\\n",
       "0      1       0       0       0       0       0       0       0       0   \n",
       "1      0       0       0       0       0       0       0       0       0   \n",
       "2      1       0       0       0       0       0       0       0       0   \n",
       "3      4       0       0       0       0       0       0       0       0   \n",
       "4      0       0       0       0       0       0       0       0       0   \n",
       "\n",
       "   pixel8  ...  pixel774  pixel775  pixel776  pixel777  pixel778  pixel779  \\\n",
       "0       0  ...         0         0         0         0         0         0   \n",
       "1       0  ...         0         0         0         0         0         0   \n",
       "2       0  ...         0         0         0         0         0         0   \n",
       "3       0  ...         0         0         0         0         0         0   \n",
       "4       0  ...         0         0         0         0         0         0   \n",
       "\n",
       "   pixel780  pixel781  pixel782  pixel783  \n",
       "0         0         0         0         0  \n",
       "1         0         0         0         0  \n",
       "2         0         0         0         0  \n",
       "3         0         0         0         0  \n",
       "4         0         0         0         0  \n",
       "\n",
       "[5 rows x 785 columns]"
      ]
     },
     "execution_count": 2,
     "metadata": {},
     "output_type": "execute_result"
    }
   ],
   "source": [
    "# read data\n",
    "df = pd.read_csv(\"train.csv\")\n",
    "df.head(5)"
   ]
  },
  {
   "cell_type": "code",
   "execution_count": 3,
   "id": "6579db85",
   "metadata": {},
   "outputs": [],
   "source": [
    "df_sample = df.sample(10000)"
   ]
  },
  {
   "cell_type": "code",
   "execution_count": 4,
   "id": "ace8c4a8",
   "metadata": {},
   "outputs": [],
   "source": [
    "y = df_sample[df_sample.columns[0]]\n",
    "X = df_sample[df_sample.columns[1:]]"
   ]
  },
  {
   "cell_type": "code",
   "execution_count": 5,
   "id": "b4b03f0a",
   "metadata": {},
   "outputs": [],
   "source": [
    "# split the training and testing dataset\n",
    "X_train, X_test, y_train, y_test = train_test_split(X, y, test_size=0.2, random_state=42)"
   ]
  },
  {
   "cell_type": "markdown",
   "id": "8c41e69b",
   "metadata": {},
   "source": [
    "## 2 Hyperparameter Experiments - 5 models"
   ]
  },
  {
   "cell_type": "markdown",
   "id": "b3609a19",
   "metadata": {},
   "source": [
    "### 2.1 Decision Tree with pruning\n",
    "#### 2.1.1 max_depth of decision tree"
   ]
  },
  {
   "cell_type": "code",
   "execution_count": 6,
   "id": "54f91f88",
   "metadata": {},
   "outputs": [
    {
     "data": {
      "text/plain": [
       "DecisionTreeClassifier()"
      ]
     },
     "execution_count": 6,
     "metadata": {},
     "output_type": "execute_result"
    }
   ],
   "source": [
    "# Examine the max_depth in vanilla decision tree classifier\n",
    "model_dt = DecisionTreeClassifier()\n",
    "model_dt.fit(X_train,y_train)"
   ]
  },
  {
   "cell_type": "code",
   "execution_count": 7,
   "id": "85cb3311",
   "metadata": {},
   "outputs": [
    {
     "name": "stdout",
     "output_type": "stream",
     "text": [
      "25\n",
      "878\n"
     ]
    }
   ],
   "source": [
    "print(model_dt.get_depth())\n",
    "print(model_dt.get_n_leaves())"
   ]
  },
  {
   "cell_type": "code",
   "execution_count": 8,
   "id": "b8dcae74",
   "metadata": {},
   "outputs": [
    {
     "data": {
      "image/png": "[encoded data removed]",
      "text/plain": [
       "<Figure size 576x216 with 1 Axes>"
      ]
     },
     "metadata": {
      "needs_background": "light"
     },
     "output_type": "display_data"
    }
   ],
   "source": [
    "max_depth_list = np.arange(1,25,2)\n",
    "\n",
    "train_errors = [] # Log training errors for each model\n",
    "test_errors = [] # Log testing errors for each model\n",
    "\n",
    "for x in max_depth_list:\n",
    "    dtc = DecisionTreeClassifier(max_depth=x) \n",
    "    dtc.fit(X_train,y_train)\n",
    "    train_z = dtc.predict(X_train)\n",
    "    test_z = dtc.predict(X_test)\n",
    "    train_errors.append(mean_squared_error(y_train, train_z))\n",
    "    test_errors.append(mean_squared_error(y_test, test_z))\n",
    "\n",
    "x = max_depth_list # Create domain for plot\n",
    "plt.figure(figsize=(8,3))\n",
    "plt.gcf().subplots_adjust(bottom=0.15)\n",
    "plt.grid()\n",
    "plt.plot(x, train_errors, 'o-', color='g', label='Training Error') # Plot training error over domain\n",
    "plt.plot(x, test_errors, 'o-', color='r',label='Testing Error') # Plot testing error over domain\n",
    "plt.xlabel('max_depth') # Label x-axis\n",
    "plt.ylabel('Total Error') # Label y-axis\n",
    "plt.legend(loc='best') # Show plot labels as legend\n",
    "plt.title('Decision Tree Experiment: Maximum Depth of Tree')\n",
    "plt.savefig('MINIST_DT_max_depth.png')\n",
    "plt.show() # Show graph"
   ]
  },
  {
   "cell_type": "markdown",
   "id": "4090a62c",
   "metadata": {},
   "source": [
    "#### 3.1.2 min_samples_leaf of decision tree"
   ]
  },
  {
   "cell_type": "code",
   "execution_count": 9,
   "id": "95586400",
   "metadata": {},
   "outputs": [
    {
     "data": {
      "image/png": "[encoded data removed]",
      "text/plain": [
       "<Figure size 576x216 with 1 Axes>"
      ]
     },
     "metadata": {
      "needs_background": "light"
     },
     "output_type": "display_data"
    }
   ],
   "source": [
    "min_samples_leaf_list = np.arange(1,25,4)\n",
    "\n",
    "train_errors = [] # Log training errors for each model\n",
    "test_errors = [] # Log testing errors for each model\n",
    "\n",
    "for x in min_samples_leaf_list:\n",
    "    dtc = DecisionTreeClassifier(min_samples_leaf=x) \n",
    "    dtc.fit(X_train,y_train)\n",
    "    train_z = dtc.predict(X_train)\n",
    "    test_z = dtc.predict(X_test)\n",
    "    train_errors.append(mean_squared_error(y_train, train_z))\n",
    "    test_errors.append(mean_squared_error(y_test, test_z))\n",
    "\n",
    "x = min_samples_leaf_list # Create domain for plot\n",
    "plt.figure(figsize=(8,3))\n",
    "plt.gcf().subplots_adjust(bottom=0.15)\n",
    "plt.grid()\n",
    "plt.plot(x, train_errors,'o-', color='g', label='Training Error') # Plot training error over domain\n",
    "plt.plot(x, test_errors,'o-', color='r', label='Testing Error') # Plot testing error over domain\n",
    "plt.xlabel('min_samples_leaf') # Label x-axis\n",
    "plt.ylabel('Total Error') # Label y-axis\n",
    "plt.legend(loc='best') # Show plot labels as legend\n",
    "plt.title('Decision Tree Experiment: Minimum Number of Samples for Leaf')\n",
    "plt.savefig('MINIST_DT_min_samples_leaf.png')\n",
    "plt.show() # Show graph"
   ]
  },
  {
   "cell_type": "markdown",
   "id": "f81a1d98",
   "metadata": {},
   "source": [
    "#### 3.1.3 ccp_alpha (Minimal Cost-Complexity Pruning)"
   ]
  },
  {
   "cell_type": "code",
   "execution_count": 10,
   "id": "e7d8d112",
   "metadata": {},
   "outputs": [
    {
     "data": {
      "image/png": "[encoded data removed]",
      "text/plain": [
       "<Figure size 576x216 with 1 Axes>"
      ]
     },
     "metadata": {
      "needs_background": "light"
     },
     "output_type": "display_data"
    }
   ],
   "source": [
    "ccp_alpha_list = [0.00001,0.00005,0.0001,0.0002,0.0005,0.0008,0.001,0.005]\n",
    "\n",
    "train_errors = [] # Log training errors for each model\n",
    "test_errors = [] # Log testing errors for each model\n",
    "\n",
    "for x in ccp_alpha_list:\n",
    "    dtc = DecisionTreeClassifier(ccp_alpha=x) \n",
    "    dtc.fit(X_train,y_train)\n",
    "    train_z = dtc.predict(X_train)\n",
    "    test_z = dtc.predict(X_test)\n",
    "    train_errors.append(mean_squared_error(y_train, train_z))\n",
    "    test_errors.append(mean_squared_error(y_test, test_z))\n",
    "\n",
    "x = ccp_alpha_list # Create domain for plot\n",
    "plt.figure(figsize=(8,3))\n",
    "plt.gcf().subplots_adjust(bottom=0.15)\n",
    "plt.grid()\n",
    "plt.plot(x, train_errors,'o-', color='g', label='Training Error') # Plot training error over domain\n",
    "plt.plot(x, test_errors,'o-', color='r', label='Testing Error') # Plot testing error over domain\n",
    "plt.xlabel('ccp_alpha') # Label x-axis\n",
    "plt.ylabel('Total Error') # Label y-axis\n",
    "plt.legend(loc='best') # Show plot labels as legend\n",
    "plt.title('Decision Tree Experiment: Complexity Parameter for Pruning')\n",
    "plt.savefig(\"MINIST_DT_ccp_alpha.png\")\n",
    "plt.show() # Show graph"
   ]
  },
  {
   "cell_type": "markdown",
   "id": "52b42d79",
   "metadata": {},
   "source": [
    "#### 3.1.4 Best Decision Tree"
   ]
  },
  {
   "cell_type": "code",
   "execution_count": 41,
   "id": "233b8992",
   "metadata": {},
   "outputs": [
    {
     "data": {
      "text/plain": [
       "GridSearchCV(cv=5, estimator=DecisionTreeClassifier(), n_jobs=-1,\n",
       "             param_grid={'ccp_alpha': [1e-05, 5e-05, 0.0001, 0.0002, 0.0005,\n",
       "                                       0.0008, 0.001, 0.005],\n",
       "                         'max_depth': array([ 1,  3,  5,  7,  9, 11, 13, 15, 17, 19, 21, 23]),\n",
       "                         'min_samples_leaf': array([ 1,  5,  9, 13, 17, 21])})"
      ]
     },
     "execution_count": 41,
     "metadata": {},
     "output_type": "execute_result"
    }
   ],
   "source": [
    "# Hyperparameter tuning for Decision Tree \n",
    "# define classifier\n",
    "model = DecisionTreeClassifier()\n",
    "\n",
    "# Define a hyper-parameter space to search\n",
    "parameters = {'max_depth': np.arange(1,25,2), 'min_samples_leaf' : np.arange(1,25,4), 'ccp_alpha' : [0.00001,0.00005,0.0001,0.0002,0.0005,0.0008,0.001,0.005]}\n",
    "\n",
    "clf = GridSearchCV(model, parameters, cv=5,n_jobs=-1)\n",
    "clf.fit(X_train, y_train)\n",
    "# best_max_depth = clf.best_params_['max_depth']\n",
    "# best_min_samples_leaf = clf.best_params_['min_samples_leaf']"
   ]
  },
  {
   "cell_type": "code",
   "execution_count": 42,
   "id": "86ca42c8",
   "metadata": {},
   "outputs": [
    {
     "data": {
      "text/plain": [
       "{'ccp_alpha': 0.0005, 'max_depth': 23, 'min_samples_leaf': 1}"
      ]
     },
     "execution_count": 42,
     "metadata": {},
     "output_type": "execute_result"
    }
   ],
   "source": [
    "clf.best_params_"
   ]
  },
  {
   "cell_type": "code",
   "execution_count": 45,
   "id": "34348930",
   "metadata": {},
   "outputs": [
    {
     "name": "stdout",
     "output_type": "stream",
     "text": [
      "              precision    recall  f1-score   support\n",
      "\n",
      "           0       0.85      0.86      0.86       188\n",
      "           1       0.88      0.93      0.90       219\n",
      "           2       0.75      0.73      0.74       202\n",
      "           3       0.76      0.71      0.73       241\n",
      "           4       0.83      0.85      0.84       197\n",
      "           5       0.72      0.71      0.71       172\n",
      "           6       0.88      0.83      0.85       216\n",
      "           7       0.79      0.81      0.80       174\n",
      "           8       0.67      0.74      0.70       180\n",
      "           9       0.84      0.82      0.83       211\n",
      "\n",
      "    accuracy                           0.80      2000\n",
      "   macro avg       0.80      0.80      0.80      2000\n",
      "weighted avg       0.80      0.80      0.80      2000\n",
      "\n"
     ]
    }
   ],
   "source": [
    "tree_best= DecisionTreeClassifier(max_depth= 23, min_samples_leaf = 1, ccp_alpha= 0.0005)\n",
    "tree_best.fit(X_train, y_train)\n",
    "y_pred_b = tree_best.predict(X_test)\n",
    "print(classification_report(y_test, y_pred_b))"
   ]
  },
  {
   "cell_type": "code",
   "execution_count": null,
   "id": "3d19c491",
   "metadata": {},
   "outputs": [],
   "source": [
    "# print('in-sample rmse:', mean_squared_error(y_train, y_pred_train_b, squared=False))\n",
    "# print('out-sample rmse:', mean_squared_error(y_test, y_pred_b, squared=False))\n",
    "# print('Training accuracy:', round(tree_best.score(X_train, y_train),3))\n",
    "# print('Validation accuracy:', round(tree_best.score(X_test, y_test),3))"
   ]
  },
  {
   "cell_type": "markdown",
   "id": "4d8a38e7",
   "metadata": {},
   "source": [
    "### 3.2 Neural networks\n",
    "#### 3.2.1 learning_rate_init"
   ]
  },
  {
   "cell_type": "code",
   "execution_count": 13,
   "id": "c304f74c",
   "metadata": {},
   "outputs": [
    {
     "data": {
      "image/png": "[encoded data removed]",
      "text/plain": [
       "<Figure size 576x216 with 1 Axes>"
      ]
     },
     "metadata": {
      "needs_background": "light"
     },
     "output_type": "display_data"
    }
   ],
   "source": [
    "learning_rate_init_list = [0.0001,0.0005,0.001,0.005,0.01,0.05]\n",
    "\n",
    "train_errors = [] # Log training errors for each model\n",
    "test_errors = [] # Log testing errors for each model\n",
    "\n",
    "for x in learning_rate_init_list:\n",
    "    mlp = MLPClassifier(learning_rate_init=x) \n",
    "    mlp.fit(X_train,y_train)\n",
    "    train_z = mlp.predict(X_train)\n",
    "    test_z = mlp.predict(X_test)\n",
    "    train_errors.append(mean_squared_error(y_train, train_z))\n",
    "    test_errors.append(mean_squared_error(y_test, test_z))\n",
    "\n",
    "x = learning_rate_init_list # Create domain for plot\n",
    "plt.figure(figsize=(8,3))\n",
    "plt.gcf().subplots_adjust(bottom=0.15)\n",
    "plt.grid()\n",
    "plt.plot(x, train_errors, 'o-', color='g',label='Training Error') # Plot training error over domain\n",
    "plt.plot(x, test_errors,'o-', color='r', label='Testing Error') # Plot testing error over domain\n",
    "plt.xlabel('learning_rate_init') # Label x-axis\n",
    "plt.ylabel('Total Error') # Label y-axis\n",
    "plt.legend(loc='best') # Show plot labels as legend\n",
    "plt.title('Neural Network Experiment: Learning Rate')\n",
    "plt.savefig('MINIST_NN_learning_rate.png')\n",
    "plt.show() # Show graph"
   ]
  },
  {
   "cell_type": "markdown",
   "id": "8461d563",
   "metadata": {},
   "source": [
    "### 3.2.2 activation"
   ]
  },
  {
   "cell_type": "code",
   "execution_count": 14,
   "id": "11651e89",
   "metadata": {},
   "outputs": [
    {
     "data": {
      "image/png": "[encoded data removed]",
      "text/plain": [
       "<Figure size 576x216 with 1 Axes>"
      ]
     },
     "metadata": {
      "needs_background": "light"
     },
     "output_type": "display_data"
    }
   ],
   "source": [
    "activation_list = ['tanh', 'relu']\n",
    "\n",
    "train_errors = [] # Log training errors for each model\n",
    "test_errors = [] # Log testing errors for each model\n",
    "\n",
    "for x in activation_list:\n",
    "    mlp = MLPClassifier(activation =x) \n",
    "    mlp.fit(X_train,y_train)\n",
    "    train_z = mlp.predict(X_train)\n",
    "    test_z = mlp.predict(X_test)\n",
    "    train_errors.append(mean_squared_error(y_train, train_z))\n",
    "    test_errors.append(mean_squared_error(y_test, test_z))\n",
    "    \n",
    "x = activation_list # Create domain for plot\n",
    "plt.figure(figsize=(8,3))\n",
    "plt.gcf().subplots_adjust(bottom=0.15)\n",
    "plt.grid()\n",
    "plt.scatter(x, train_errors,  marker='o', color='g', s=150, label='Training Error') # Plot training error over domain\n",
    "plt.scatter(x, test_errors,  marker='^', color='r', s=150, label='Testing Error') # Plot testing error over domain\n",
    "plt.xlabel('activation') # Label x-axis\n",
    "plt.ylabel('Total Error') # Label y-axis\n",
    "plt.legend(loc='best') # Show plot labels as legend\n",
    "plt.title('Neural Network Experiment: Activation')\n",
    "plt.savefig('MINIST_NN_activation.png')\n",
    "plt.show() # Show graph"
   ]
  },
  {
   "cell_type": "markdown",
   "id": "871d1b05",
   "metadata": {},
   "source": [
    "#### 3.2.3 Best MLP Classifier"
   ]
  },
  {
   "cell_type": "code",
   "execution_count": 43,
   "id": "dd7807e2",
   "metadata": {},
   "outputs": [
    {
     "data": {
      "text/plain": [
       "GridSearchCV(cv=3, estimator=MLPClassifier(max_iter=100), n_jobs=-1,\n",
       "             param_grid={'activation': ['tanh', 'relu'],\n",
       "                         'alpha': [0.0001, 0.001, 0.01, 0.05],\n",
       "                         'hidden_layer_sizes': [(50, 50, 50, 50, 50),\n",
       "                                                (50, 50, 50, 50), (50, 50, 50),\n",
       "                                                (50, 100, 50), (100,)],\n",
       "                         'learning_rate': ['constant', 'adaptive'],\n",
       "                         'solver': ['sgd', 'adam']})"
      ]
     },
     "execution_count": 43,
     "metadata": {},
     "output_type": "execute_result"
    }
   ],
   "source": [
    "# define classifier\n",
    "mlp = MLPClassifier(max_iter=100)\n",
    "\n",
    "# Define a hyper-parameter to search\n",
    "parameters = {\n",
    "    'hidden_layer_sizes': [(50,50,50,50,50), (50,50,50,50), (50,50,50), (50,100,50), (100,)],\n",
    "    'activation': ['tanh', 'relu'],\n",
    "    'solver': ['sgd', 'adam'],\n",
    "    'alpha': [0.0001, 0.001, 0.01, 0.05],\n",
    "    'learning_rate': ['constant','adaptive'],\n",
    "}\n",
    "\n",
    "# find best MLP Classifier\n",
    "clf = GridSearchCV(mlp, parameters, n_jobs=-1, cv=3)\n",
    "clf.fit(X_train, y_train)\n"
   ]
  },
  {
   "cell_type": "code",
   "execution_count": 44,
   "id": "d7a977b8",
   "metadata": {},
   "outputs": [
    {
     "name": "stdout",
     "output_type": "stream",
     "text": [
      "{'activation': 'tanh', 'alpha': 0.001, 'hidden_layer_sizes': (100,), 'learning_rate': 'adaptive', 'solver': 'adam'}\n"
     ]
    }
   ],
   "source": [
    "# print best model's prameter\n",
    "print(clf.best_params_)"
   ]
  },
  {
   "cell_type": "code",
   "execution_count": 46,
   "id": "7b9a5582",
   "metadata": {},
   "outputs": [
    {
     "name": "stdout",
     "output_type": "stream",
     "text": [
      "              precision    recall  f1-score   support\n",
      "\n",
      "           0       0.93      0.93      0.93       188\n",
      "           1       0.95      0.97      0.96       219\n",
      "           2       0.87      0.86      0.86       202\n",
      "           3       0.93      0.80      0.86       241\n",
      "           4       0.93      0.92      0.93       197\n",
      "           5       0.81      0.88      0.84       172\n",
      "           6       0.94      0.93      0.94       216\n",
      "           7       0.94      0.91      0.92       174\n",
      "           8       0.80      0.92      0.85       180\n",
      "           9       0.90      0.90      0.90       211\n",
      "\n",
      "    accuracy                           0.90      2000\n",
      "   macro avg       0.90      0.90      0.90      2000\n",
      "weighted avg       0.90      0.90      0.90      2000\n",
      "\n"
     ]
    }
   ],
   "source": [
    "mlp_best = MLPClassifier(max_iter=100, activation= 'tanh', alpha= 0.001, hidden_layer_sizes= (100,), learning_rate = 'adaptive', solver = 'adam' )\n",
    "mlp_best.fit(X_train, y_train)\n",
    "y_pred_b = mlp_best.predict(X_test)\n",
    "print(classification_report(y_test, y_pred_b))"
   ]
  },
  {
   "cell_type": "code",
   "execution_count": 30,
   "id": "d0e68c14",
   "metadata": {},
   "outputs": [],
   "source": [
    "# mlp_best.fit(X_train, y_train)"
   ]
  },
  {
   "cell_type": "code",
   "execution_count": 31,
   "id": "b3b57dba",
   "metadata": {},
   "outputs": [],
   "source": [
    "# y_pred_train_mlp = mlp_best.predict(X_train)\n",
    "# y_pred_mlp = mlp_best.predict(X_test)\n",
    "\n",
    "# print('in-sample rmse:', mean_squared_error(y_train, y_pred_train_mlp, squared=False))\n",
    "# print('out-sample rmse:', mean_squared_error(y_test, y_pred_mlp, squared=False))\n",
    "# print('Training accuracy:', round(mlp_best.score(X_train, y_train),3))\n",
    "# print('Validation accuracy:', round(mlp_best.score(X_test, y_test),3))"
   ]
  },
  {
   "cell_type": "markdown",
   "id": "21331f8a",
   "metadata": {},
   "source": [
    "### 3.3 Boosting"
   ]
  },
  {
   "cell_type": "code",
   "execution_count": 17,
   "id": "1099d96a",
   "metadata": {},
   "outputs": [
    {
     "data": {
      "image/png": "[encoded data removed]",
      "text/plain": [
       "<Figure size 576x216 with 1 Axes>"
      ]
     },
     "metadata": {
      "needs_background": "light"
     },
     "output_type": "display_data"
    }
   ],
   "source": [
    "ccp_alpha_list =[0.0001,0.0005,0.001,0.005,0.01]\n",
    "\n",
    "train_errors = [] # Log training errors for each model\n",
    "test_errors = [] # Log testing errors for each model\n",
    "\n",
    "for x in ccp_alpha_list:\n",
    "    bc = GradientBoostingClassifier(ccp_alpha=x) \n",
    "    bc.fit(X_train,y_train)\n",
    "    train_z = bc.predict(X_train)\n",
    "    test_z = bc.predict(X_test)\n",
    "    train_errors.append(mean_squared_error(y_train, train_z))\n",
    "    test_errors.append(mean_squared_error(y_test, test_z))\n",
    "\n",
    "x = ccp_alpha_list # Create domain for plot\n",
    "plt.figure(figsize=(8,3))\n",
    "plt.gcf().subplots_adjust(bottom=0.15)\n",
    "plt.grid()\n",
    "plt.plot(x, train_errors, 'o-', color='g',label='Training Error') # Plot training error over domain\n",
    "plt.plot(x, test_errors, 'o-', color='r',label='Testing Error') # Plot testing error over domain\n",
    "plt.xlabel('ccp_alpha') # Label x-axis\n",
    "plt.ylabel('Total Error') # Label y-axis\n",
    "plt.legend(loc='best') # Show plot labels as legend\n",
    "plt.title('Boosting Experiment: Complexity Parameter for Pruning')\n",
    "plt.savefig('MINIST_BST_ccp_alpha.png')\n",
    "plt.show() # Show graph"
   ]
  },
  {
   "cell_type": "markdown",
   "id": "f5c214bf",
   "metadata": {},
   "source": [
    "#### 3.3.2 Learning rate"
   ]
  },
  {
   "cell_type": "code",
   "execution_count": 18,
   "id": "1509698d",
   "metadata": {},
   "outputs": [
    {
     "data": {
      "image/png": "[encoded data removed]",
      "text/plain": [
       "<Figure size 576x216 with 1 Axes>"
      ]
     },
     "metadata": {
      "needs_background": "light"
     },
     "output_type": "display_data"
    }
   ],
   "source": [
    "learning_rate_list = [0.01, 0.025, 0.05, 0.075, 0.1, 0.15, 0.2]\n",
    "\n",
    "train_errors = [] # Log training errors for each model\n",
    "test_errors = [] # Log testing errors for each model\n",
    "\n",
    "for x in learning_rate_list:\n",
    "    bc = GradientBoostingClassifier(learning_rate=x) \n",
    "    bc.fit(X_train,y_train)\n",
    "    train_z = bc.predict(X_train)\n",
    "    test_z = bc.predict(X_test)\n",
    "    train_errors.append(mean_squared_error(y_train, train_z))\n",
    "    test_errors.append(mean_squared_error(y_test, test_z))\n",
    "\n",
    "x = learning_rate_list # Create domain for plot\n",
    "plt.figure(figsize=(8,3))\n",
    "plt.gcf().subplots_adjust(bottom=0.15)\n",
    "plt.grid()\n",
    "plt.plot(x, train_errors, 'o-', color='g',label='Training Error') # Plot training error over domain\n",
    "plt.plot(x, test_errors, 'o-', color='r',label='Testing Error') # Plot testing error over domain\n",
    "plt.xlabel('learning_rate') # Label x-axis\n",
    "plt.ylabel('Total Error') # Label y-axis\n",
    "plt.legend(loc='best') # Show plot labels as legend\n",
    "plt.title('Boosting Experiment: Learning Rate')\n",
    "plt.savefig('MINIST_BST_learning_rate.png')\n",
    "plt.show() # Show graph"
   ]
  },
  {
   "cell_type": "markdown",
   "id": "58880bda",
   "metadata": {},
   "source": [
    "#### 3.3.3 best boosting"
   ]
  },
  {
   "cell_type": "code",
   "execution_count": 21,
   "id": "92d227d5",
   "metadata": {},
   "outputs": [
    {
     "name": "stdout",
     "output_type": "stream",
     "text": [
      "{'ccp_alpha': 0.0001, 'learning_rate': 0.05, 'loss': 'deviance', 'max_depth': 8, 'max_features': 'sqrt', 'n_estimators': 10, 'subsample': 0.95}\n"
     ]
    }
   ],
   "source": [
    "# define classifier\n",
    "boost=GradientBoostingClassifier()\n",
    "\n",
    "# Define a hyper-parameter to search\n",
    "parameters = {\n",
    "    \"loss\":[\"deviance\"],\n",
    "    \"learning_rate\": [0.01, 0.025, 0.05, 0.075, 0.1, 0.15, 0.2],\n",
    "    'ccp_alpha' :[0.0001,0.0005,0.001],\n",
    "    \"max_depth\":[3,5,8],\n",
    "    \"max_features\":[\"log2\",\"sqrt\"],\n",
    "    \"subsample\":[0.5, 0.618, 0.8, 0.85, 0.9, 0.95, 1.0],\n",
    "    \"n_estimators\":[10]\n",
    "    }\n",
    "\n",
    "# find best Classifier\n",
    "clf = GridSearchCV(boost, parameters, cv=5, n_jobs=-1)\n",
    "\n",
    "clf.fit(X_train, y_train)\n",
    "print(clf.best_params_)"
   ]
  },
  {
   "cell_type": "code",
   "execution_count": 32,
   "id": "86879c34",
   "metadata": {},
   "outputs": [
    {
     "name": "stdout",
     "output_type": "stream",
     "text": [
      "              precision    recall  f1-score   support\n",
      "\n",
      "           0       0.94      0.96      0.95       188\n",
      "           1       0.95      0.97      0.96       219\n",
      "           2       0.90      0.91      0.90       202\n",
      "           3       0.88      0.85      0.87       241\n",
      "           4       0.93      0.94      0.93       197\n",
      "           5       0.93      0.89      0.91       172\n",
      "           6       0.96      0.92      0.94       216\n",
      "           7       0.91      0.91      0.91       174\n",
      "           8       0.85      0.89      0.87       180\n",
      "           9       0.90      0.91      0.91       211\n",
      "\n",
      "    accuracy                           0.92      2000\n",
      "   macro avg       0.92      0.92      0.92      2000\n",
      "weighted avg       0.92      0.92      0.91      2000\n",
      "\n"
     ]
    }
   ],
   "source": [
    "bst_best = GradientBoostingClassifier(ccp_alpha =0.0001 ,learning_rate = 0.05, loss= 'deviance', max_depth = 8, max_features= 'sqrt', n_estimators=10, subsample= 0.95)\n",
    "bst_best.fit(X_train, y_train)\n",
    "y_pred_b =bst_best.predict(X_test)\n",
    "print(classification_report(y_test, y_pred_b))"
   ]
  },
  {
   "cell_type": "code",
   "execution_count": 38,
   "id": "6ebf4e01",
   "metadata": {},
   "outputs": [],
   "source": [
    "# boost_best=GradientBoostingClassifier(learning_rate= 0.2, loss= 'deviance', max_depth= 8, max_features='log2', min_samples_leaf= 1, n_estimators= 10, subsample= 1.0)\n",
    "# boost_best.fit(X_train, y_train)"
   ]
  },
  {
   "cell_type": "code",
   "execution_count": 39,
   "id": "b317f5ae",
   "metadata": {},
   "outputs": [],
   "source": [
    "# y_pred_train_boost = boost_best.predict(X_train)\n",
    "# y_pred_boost = boost_best.predict(X_test)\n",
    "\n",
    "# print('in-sample rmse:', mean_squared_error(y_train, y_pred_train_boost, squared=False))\n",
    "# print('out-sample rmse:', mean_squared_error(y_test, y_pred_boost, squared=False))\n",
    "# print('Training accuracy:', round(boost_best.score(X_train, y_train),3))\n",
    "# print('Validation accuracy:', round(boost_best.score(X_test, y_test),3))"
   ]
  },
  {
   "cell_type": "markdown",
   "id": "6eba2200",
   "metadata": {},
   "source": [
    "### 3.4 Support Vector Machines"
   ]
  },
  {
   "cell_type": "code",
   "execution_count": 22,
   "id": "3a89b760",
   "metadata": {},
   "outputs": [
    {
     "data": {
      "image/png": "[encoded data removed]",
      "text/plain": [
       "<Figure size 576x216 with 1 Axes>"
      ]
     },
     "metadata": {
      "needs_background": "light"
     },
     "output_type": "display_data"
    }
   ],
   "source": [
    "kernel_list = ['linear','poly' , 'rbf', 'sigmoid']\n",
    "\n",
    "train_errors = [] # Log training errors for each model\n",
    "test_errors = [] # Log testing errors for each model\n",
    "\n",
    "for x in kernel_list:\n",
    "    svm = SVC(kernel=x) \n",
    "    svm.fit(X_train,y_train)\n",
    "    train_z = svm.predict(X_train)\n",
    "    test_z = svm.predict(X_test)\n",
    "    train_errors.append(mean_squared_error(y_train, train_z))\n",
    "    test_errors.append(mean_squared_error(y_test, test_z))\n",
    "    \n",
    "x = kernel_list # Create domain for plot\n",
    "plt.figure(figsize=(8,3))\n",
    "plt.gcf().subplots_adjust(bottom=0.15)\n",
    "plt.grid()\n",
    "plt.scatter(x, train_errors,  marker='o', color='g', s=150, label='Training Error') # Plot training error over domain\n",
    "plt.scatter(x, test_errors,  marker='^', color='r', s=150, label='Testing Error') # Plot testing error over domain\n",
    "plt.xlabel('kernel') # Label x-axis\n",
    "plt.ylabel('Total Error') # Label y-axis\n",
    "plt.legend() # Show plot labels as legend\n",
    "plt.title('SVM Experiment: Kernel')\n",
    "plt.savefig('MINIST_SVM_kernel.png')\n",
    "plt.show() # Show graph"
   ]
  },
  {
   "cell_type": "markdown",
   "id": "d4cec5d7",
   "metadata": {},
   "source": [
    "#### 3.4.2 Regularization parameter C"
   ]
  },
  {
   "cell_type": "code",
   "execution_count": 23,
   "id": "aff03e50",
   "metadata": {},
   "outputs": [
    {
     "data": {
      "image/png": "[encoded data removed]",
      "text/plain": [
       "<Figure size 576x216 with 1 Axes>"
      ]
     },
     "metadata": {
      "needs_background": "light"
     },
     "output_type": "display_data"
    }
   ],
   "source": [
    "C_list = [0.1,1, 10, 20]\n",
    "\n",
    "train_errors = [] # Log training errors for each model\n",
    "test_errors = [] # Log testing errors for each model\n",
    "\n",
    "for x in C_list:\n",
    "    svm = SVC(C=x) \n",
    "    svm.fit(X_train,y_train)\n",
    "    train_z = svm.predict(X_train)\n",
    "    test_z = svm.predict(X_test)\n",
    "    train_errors.append(mean_squared_error(y_train, train_z))\n",
    "    test_errors.append(mean_squared_error(y_test, test_z))\n",
    "\n",
    "x = C_list # Create domain for plot\n",
    "plt.figure(figsize=(8,3))\n",
    "plt.gcf().subplots_adjust(bottom=0.15)\n",
    "plt.grid()\n",
    "plt.plot(x, train_errors, 'o-', color='g', label='Training Error') # Plot training error over domain\n",
    "plt.plot(x, test_errors, 'o-', color='r',label='Testing Error') # Plot testing error over domain\n",
    "plt.xlabel('Regularization Parameter: C') # Label x-axis\n",
    "plt.ylabel('Total Error') # Label y-axis\n",
    "plt.legend() # Show plot labels as legend\n",
    "plt.title('SVM Experiment: Regularization Parameter')\n",
    "plt.savefig('MINIST_SVM_C.png')\n",
    "plt.show() # Show graph"
   ]
  },
  {
   "cell_type": "markdown",
   "id": "3bf9984b",
   "metadata": {},
   "source": [
    "#### 3.4.2 best SVM"
   ]
  },
  {
   "cell_type": "code",
   "execution_count": 37,
   "id": "223eeece",
   "metadata": {},
   "outputs": [
    {
     "data": {
      "text/plain": [
       "GridSearchCV(cv=5, estimator=SVC(), n_jobs=-1,\n",
       "             param_grid={'C': [0.1, 1, 10, 100], 'gamma': [1, 0.1, 0.01, 0.001],\n",
       "                         'kernel': ['rbf', 'poly', 'sigmoid']})"
      ]
     },
     "execution_count": 37,
     "metadata": {},
     "output_type": "execute_result"
    }
   ],
   "source": [
    "# define classifier\n",
    "svm = SVC()\n",
    "\n",
    "# Define a hyper-parameter to search\n",
    "parameters = {'C': [0.1,1, 10, 100], 'gamma': [1,0.1,0.01,0.001],'kernel': ['rbf', 'poly', 'sigmoid']}\n",
    "\n",
    "# find best Classifier\n",
    "clf = GridSearchCV(svm, parameters, cv=5, n_jobs=-1)\n",
    "clf.fit(X_train,y_train)"
   ]
  },
  {
   "cell_type": "code",
   "execution_count": 38,
   "id": "4249e7ee",
   "metadata": {},
   "outputs": [
    {
     "name": "stdout",
     "output_type": "stream",
     "text": [
      "{'C': 0.1, 'gamma': 1, 'kernel': 'poly'}\n"
     ]
    }
   ],
   "source": [
    "print(clf.best_params_)"
   ]
  },
  {
   "cell_type": "code",
   "execution_count": 39,
   "id": "aa865a40",
   "metadata": {},
   "outputs": [
    {
     "name": "stdout",
     "output_type": "stream",
     "text": [
      "              precision    recall  f1-score   support\n",
      "\n",
      "           0       0.95      0.98      0.97       188\n",
      "           1       0.96      0.98      0.97       219\n",
      "           2       0.94      0.93      0.93       202\n",
      "           3       0.96      0.92      0.94       241\n",
      "           4       0.98      0.97      0.98       197\n",
      "           5       0.94      0.95      0.94       172\n",
      "           6       0.96      0.96      0.96       216\n",
      "           7       0.96      0.97      0.97       174\n",
      "           8       0.94      0.97      0.95       180\n",
      "           9       0.97      0.96      0.96       211\n",
      "\n",
      "    accuracy                           0.96      2000\n",
      "   macro avg       0.96      0.96      0.96      2000\n",
      "weighted avg       0.96      0.96      0.96      2000\n",
      "\n"
     ]
    }
   ],
   "source": [
    "y_pred_b =clf.predict(X_test)\n",
    "print(classification_report(y_test, y_pred_b))"
   ]
  },
  {
   "cell_type": "code",
   "execution_count": 40,
   "id": "180f8392",
   "metadata": {},
   "outputs": [
    {
     "name": "stdout",
     "output_type": "stream",
     "text": [
      "              precision    recall  f1-score   support\n",
      "\n",
      "           0       0.95      0.98      0.97       188\n",
      "           1       0.96      0.98      0.97       219\n",
      "           2       0.94      0.93      0.93       202\n",
      "           3       0.96      0.92      0.94       241\n",
      "           4       0.98      0.97      0.98       197\n",
      "           5       0.94      0.95      0.94       172\n",
      "           6       0.96      0.96      0.96       216\n",
      "           7       0.96      0.97      0.97       174\n",
      "           8       0.94      0.97      0.95       180\n",
      "           9       0.97      0.96      0.96       211\n",
      "\n",
      "    accuracy                           0.96      2000\n",
      "   macro avg       0.96      0.96      0.96      2000\n",
      "weighted avg       0.96      0.96      0.96      2000\n",
      "\n"
     ]
    }
   ],
   "source": [
    "svm_best = SVC(C=0.1, gamma=1,kernel= 'poly')\n",
    "svm_best.fit(X_train, y_train)\n",
    "y_pred_b =svm_best.predict(X_test)\n",
    "print(classification_report(y_test, y_pred_b))"
   ]
  },
  {
   "cell_type": "code",
   "execution_count": 45,
   "id": "472196de",
   "metadata": {},
   "outputs": [],
   "source": [
    "# svm_best = SVC(C=100, gamma=0.001,kernel= 'rbf')\n",
    "# svm_best.fit(X_train, y_train)"
   ]
  },
  {
   "cell_type": "code",
   "execution_count": 46,
   "id": "fd1970c5",
   "metadata": {},
   "outputs": [],
   "source": [
    "# y_pred_train_svm = svm_best.predict(X_train)\n",
    "# y_pred_svm = svm_best.predict(X_test)\n",
    "\n",
    "# print('in-sample rmse:', mean_squared_error(y_train, y_pred_train_svm, squared=False))\n",
    "# print('out-sample rmse:', mean_squared_error(y_test, y_pred_svm, squared=False))\n",
    "# print('Training accuracy:', round(svm_best.score(X_train, y_train),3))\n",
    "# print('Validation accuracy:', round(svm_best.score(X_test, y_test),3))"
   ]
  },
  {
   "cell_type": "markdown",
   "id": "5d19d16f",
   "metadata": {},
   "source": [
    "### 3.5 k-nearest neighbors\n",
    "#### 3.5.1 n_neighbors"
   ]
  },
  {
   "cell_type": "code",
   "execution_count": 26,
   "id": "2fad2653",
   "metadata": {},
   "outputs": [
    {
     "data": {
      "image/png": "[encoded data removed]",
      "text/plain": [
       "<Figure size 576x216 with 1 Axes>"
      ]
     },
     "metadata": {
      "needs_background": "light"
     },
     "output_type": "display_data"
    }
   ],
   "source": [
    "n_neighbors_list = np.arange(1,20)\n",
    "\n",
    "train_errors = [] # Log training errors for each model\n",
    "test_errors = [] # Log testing errors for each model\n",
    "\n",
    "for x in n_neighbors_list:\n",
    "    knn = KNeighborsClassifier(n_neighbors=x) \n",
    "    knn.fit(X_train,y_train)\n",
    "    train_z = knn.predict(X_train)\n",
    "    test_z = knn.predict(X_test)\n",
    "    train_errors.append(mean_squared_error(y_train, train_z))\n",
    "    test_errors.append(mean_squared_error(y_test, test_z))\n",
    "\n",
    "x = n_neighbors_list # Create domain for plot\n",
    "plt.figure(figsize=(8,3))\n",
    "plt.gcf().subplots_adjust(bottom=0.15)\n",
    "plt.grid()\n",
    "plt.plot(x, train_errors, 'o-', color='g',label='Training Error') # Plot training error over domain\n",
    "plt.plot(x, test_errors,'o-', color='r', label='Testing Error') # Plot testing error over domain\n",
    "plt.xlabel('n_neighbors') # Label x-axis\n",
    "plt.ylabel('Total Error') # Label y-axis\n",
    "plt.legend() # Show plot labels as legend\n",
    "plt.title('KNN Experiment: Number of Neighbors')\n",
    "plt.savefig('MINIST_KNN_n_neighbors.png')\n",
    "plt.show() # Show graph"
   ]
  },
  {
   "cell_type": "markdown",
   "id": "7c3ce78f",
   "metadata": {},
   "source": [
    "#### 3.5.2 Best KNN"
   ]
  },
  {
   "cell_type": "code",
   "execution_count": 27,
   "id": "8fde74b0",
   "metadata": {},
   "outputs": [
    {
     "name": "stderr",
     "output_type": "stream",
     "text": [
      "C:\\Users\\anluz\\anaconda3\\lib\\site-packages\\sklearn\\model_selection\\_search.py:922: UserWarning: One or more of the test scores are non-finite: [nan nan nan nan nan nan nan nan nan nan nan nan nan nan nan nan nan nan\n",
      " nan nan nan nan nan nan nan nan nan nan nan nan nan nan nan nan nan nan\n",
      " nan nan]\n",
      "  warnings.warn(\n"
     ]
    },
    {
     "data": {
      "text/plain": [
       "GridSearchCV(cv=5, estimator=KNeighborsClassifier(), n_jobs=-1,\n",
       "             param_grid={'metric': ['euclidean', 'manhattan'],\n",
       "                         'n_neighbors': array([ 1,  2,  3,  4,  5,  6,  7,  8,  9, 10, 11, 12, 13, 14, 15, 16, 17,\n",
       "       18, 19])},\n",
       "             scoring='f1')"
      ]
     },
     "execution_count": 27,
     "metadata": {},
     "output_type": "execute_result"
    }
   ],
   "source": [
    "# define classifier\n",
    "knn = KNeighborsClassifier()\n",
    "\n",
    "# Define a hyper-parameter to search\n",
    "parameters = {'n_neighbors':np.arange(1,20), 'metric':['euclidean', 'manhattan']}\n",
    "\n",
    "# find best Classifier\n",
    "clf = GridSearchCV(knn, parameters, cv=5, scoring = \"f1\", n_jobs=-1)\n",
    "clf.fit(X_train,y_train)"
   ]
  },
  {
   "cell_type": "code",
   "execution_count": 28,
   "id": "2df30edc",
   "metadata": {},
   "outputs": [
    {
     "name": "stdout",
     "output_type": "stream",
     "text": [
      "{'metric': 'euclidean', 'n_neighbors': 1}\n"
     ]
    }
   ],
   "source": [
    "print(clf.best_params_)"
   ]
  },
  {
   "cell_type": "code",
   "execution_count": 34,
   "id": "b79a1a93",
   "metadata": {},
   "outputs": [
    {
     "name": "stdout",
     "output_type": "stream",
     "text": [
      "              precision    recall  f1-score   support\n",
      "\n",
      "           0       0.96      0.98      0.97       188\n",
      "           1       0.96      0.99      0.97       219\n",
      "           2       0.97      0.95      0.96       202\n",
      "           3       0.94      0.90      0.92       241\n",
      "           4       0.94      0.94      0.94       197\n",
      "           5       0.92      0.93      0.93       172\n",
      "           6       0.96      0.96      0.96       216\n",
      "           7       0.94      0.95      0.95       174\n",
      "           8       0.93      0.91      0.92       180\n",
      "           9       0.92      0.93      0.92       211\n",
      "\n",
      "    accuracy                           0.94      2000\n",
      "   macro avg       0.94      0.94      0.94      2000\n",
      "weighted avg       0.94      0.94      0.94      2000\n",
      "\n"
     ]
    }
   ],
   "source": [
    "knn_best = KNeighborsClassifier(n_neighbors=1, metric='euclidean')\n",
    "knn_best.fit(X_train, y_train)\n",
    "y_pred_b =knn_best.predict(X_test)\n",
    "print(classification_report(y_test, y_pred_b))"
   ]
  },
  {
   "cell_type": "code",
   "execution_count": 51,
   "id": "86181a6f",
   "metadata": {},
   "outputs": [],
   "source": [
    "# knn_best = KNeighborsClassifier(n_neighbors=5, metric='euclidean')\n",
    "# knn_best.fit(X_train, y_train)"
   ]
  },
  {
   "cell_type": "code",
   "execution_count": 52,
   "id": "88ec20b2",
   "metadata": {},
   "outputs": [],
   "source": [
    "# y_pred_train_knn = knn_best.predict(X_train)\n",
    "# y_pred_knn = knn_best.predict(X_test)\n",
    "\n",
    "# print('in-sample rmse:', mean_squared_error(y_train, y_pred_train_knn, squared=False))\n",
    "# print('out-sample rmse:', mean_squared_error(y_test, y_pred_knn, squared=False))\n",
    "# print('Training accuracy:', round(knn_best.score(X_train, y_train),3))\n",
    "# print('Validation accuracy:', round(knn_best.score(X_test, y_test),3))"
   ]
  },
  {
   "cell_type": "markdown",
   "id": "e2635dbe",
   "metadata": {},
   "source": [
    "## 4. Best Models Learning Curve"
   ]
  },
  {
   "cell_type": "code",
   "execution_count": 49,
   "id": "25b9c16d",
   "metadata": {},
   "outputs": [],
   "source": [
    "def plot_learning_curve(estimator,title,X,y,axes=None,ylim=None,cv=None,n_jobs=None,scoring=None,train_sizes=np.linspace(0.1, 1.0, 5)):\n",
    "    if axes is None:\n",
    "        _, axes = plt.subplots(1, 3, figsize=(20, 5))\n",
    "\n",
    "    axes[0].set_title(title)\n",
    "    if ylim is not None:\n",
    "        axes[0].set_ylim(*ylim)\n",
    "#     axes[0].set_xlabel(\"Training size\")\n",
    "    axes[0].set_ylabel(\"Score\")\n",
    "\n",
    "    train_sizes, train_scores, test_scores, fit_times, score_times = learning_curve(estimator,X,y,scoring=scoring,cv=cv,n_jobs=n_jobs,train_sizes=train_sizes,return_times=True,)\n",
    "    train_scores_mean = np.mean(train_scores, axis=1)\n",
    "    train_scores_std = np.std(train_scores, axis=1)\n",
    "    test_scores_mean = np.mean(test_scores, axis=1)\n",
    "    test_scores_std = np.std(test_scores, axis=1)\n",
    "    fit_times_mean = np.mean(fit_times, axis=1)\n",
    "    fit_times_std = np.std(fit_times, axis=1)\n",
    "    score_times_mean = np.mean(score_times, axis=1)\n",
    "    score_times_std = np.std(score_times, axis=1)\n",
    "\n",
    "    # Plot learning curve\n",
    "    axes[0].grid()\n",
    "    axes[0].fill_between(\n",
    "        train_sizes,\n",
    "        train_scores_mean - train_scores_std,\n",
    "        train_scores_mean + train_scores_std,\n",
    "        alpha=0.1,\n",
    "        color=\"b\",\n",
    "    )\n",
    "    axes[0].fill_between(\n",
    "        train_sizes,\n",
    "        test_scores_mean - test_scores_std,\n",
    "        test_scores_mean + test_scores_std,\n",
    "        alpha=0.1,\n",
    "        color=\"y\",\n",
    "    )\n",
    "    axes[0].plot(\n",
    "        train_sizes, train_scores_mean, \"o-\", color=\"b\", label=\"Training\"\n",
    "    )\n",
    "    axes[0].plot(\n",
    "        train_sizes, test_scores_mean, \"o-\", color=\"y\", label=\"Validation\"\n",
    "    )\n",
    "    axes[0].legend(loc=\"best\")\n",
    "\n",
    "    # Plot n_samples vs fit_times\n",
    "    axes[1].grid()\n",
    "    axes[1].plot(train_sizes, fit_times_mean, \"o-\")\n",
    "    axes[1].fill_between(\n",
    "        train_sizes,\n",
    "        fit_times_mean - fit_times_std,\n",
    "        fit_times_mean + fit_times_std,\n",
    "        alpha=0.1,\n",
    "    )\n",
    "    axes[1].set_xlabel(\"Training size\")\n",
    "    axes[1].set_ylabel(\"fit_times\")\n",
    "#     axes[1].set_title(\"Scalability\")\n",
    "\n",
    "    # Plot fit_time vs score\n",
    "#     fit_time_argsort = fit_times_mean.argsort()\n",
    "#     fit_time_sorted = fit_times_mean[fit_time_argsort]\n",
    "#     test_scores_mean_sorted = test_scores_mean[fit_time_argsort]\n",
    "#     test_scores_std_sorted = test_scores_std[fit_time_argsort]\n",
    "#     axes[1].grid()\n",
    "#     axes[1].plot(fit_time_sorted, test_scores_mean_sorted, \"o-\")\n",
    "#     axes[1].fill_between(\n",
    "#         fit_time_sorted,\n",
    "#         test_scores_mean_sorted - test_scores_std_sorted,\n",
    "#         test_scores_mean_sorted + test_scores_std_sorted,\n",
    "#         alpha=0.1,\n",
    "#     )\n",
    "#     axes[1].set_xlabel(\"fit_times\")\n",
    "#     axes[1].set_ylabel(\"Score\")\n",
    "#     axes[1].set_title(\"Performance of the model\")\n",
    "\n",
    "    # Plot n_samples vs score_times\n",
    "#     axes[2].grid()\n",
    "#     axes[2].plot(train_sizes, score_times_mean, \"o-\")\n",
    "#     axes[2].fill_between(\n",
    "#         train_sizes,\n",
    "#         score_times_mean - score_times_std,\n",
    "#         score_times_mean + score_times_std,\n",
    "#         alpha=0.1,\n",
    "#     )\n",
    "#     axes[2].set_xlabel(\"Training size\")\n",
    "#     axes[2].set_ylabel(\"score_times\")\n",
    "\n",
    "    return plt\n"
   ]
  },
  {
   "cell_type": "code",
   "execution_count": 50,
   "id": "3a846330",
   "metadata": {},
   "outputs": [
    {
     "data": {
      "image/png": "[encoded data removed]",
      "text/plain": [
       "<Figure size 1080x360 with 10 Axes>"
      ]
     },
     "metadata": {
      "needs_background": "light"
     },
     "output_type": "display_data"
    }
   ],
   "source": [
    "fig, axes = plt.subplots(2, 5, figsize=(15,5))\n",
    "fig.tight_layout(h_pad=3, w_pad=4)\n",
    "plt.gcf().subplots_adjust(bottom=0.15)\n",
    "\n",
    "title = \"Decision Tree\"\n",
    "# Cross validation with 20 iterations to get smoother mean test and train\n",
    "# score curves, each time with 20% data randomly selected as a validation set.\n",
    "cv = ShuffleSplit(n_splits=20, test_size=0.2, random_state=0)\n",
    "estimator = DecisionTreeClassifier(max_depth= 23, min_samples_leaf = 1, ccp_alpha= 0.0005)\n",
    "plot_learning_curve(\n",
    "    estimator,\n",
    "    title,\n",
    "    X_train,\n",
    "    y_train,\n",
    "    axes=axes[:, 0],\n",
    "    ylim=(0.7, 1.01),\n",
    "    cv=cv,\n",
    "    n_jobs=4,\n",
    "    scoring=\"accuracy\",\n",
    ")\n",
    "\n",
    "\n",
    "title = \"Neural Network\"\n",
    "# Cross validation with 20 iterations to get smoother mean test and train\n",
    "# score curves, each time with 20% data randomly selected as a validation set.\n",
    "cv = ShuffleSplit(n_splits=20, test_size=0.2, random_state=0)\n",
    "estimator =  MLPClassifier(max_iter=100, activation= 'tanh', alpha= 0.001, hidden_layer_sizes= (100,), learning_rate = 'adaptive', solver = 'adam' )\n",
    "plot_learning_curve(\n",
    "    estimator,\n",
    "    title,\n",
    "    X_train,\n",
    "    y_train,\n",
    "    axes=axes[:, 1],\n",
    "    ylim=(0.7, 1.01),\n",
    "    cv=cv,\n",
    "    n_jobs=4,\n",
    "    scoring=\"accuracy\",\n",
    ")\n",
    "\n",
    "title = \"Boosting\"\n",
    "# Cross validation with 20 iterations to get smoother mean test and train\n",
    "# score curves, each time with 20% data randomly selected as a validation set.\n",
    "cv = ShuffleSplit(n_splits=20, test_size=0.2, random_state=0)\n",
    "estimator = GradientBoostingClassifier(ccp_alpha =0.0001 ,learning_rate = 0.05, loss= 'deviance', max_depth = 8, max_features= 'sqrt', n_estimators=10, subsample= 0.95)\n",
    "plot_learning_curve(\n",
    "    estimator,\n",
    "    title,\n",
    "    X_train,\n",
    "    y_train,\n",
    "    axes=axes[:, 2],\n",
    "    ylim=(0.7, 1.01),\n",
    "    cv=cv,\n",
    "    n_jobs=4,\n",
    "    scoring=\"accuracy\",\n",
    ")\n",
    "\n",
    "title = \"SVM\"\n",
    "# Cross validation with 20 iterations to get smoother mean test and train\n",
    "# score curves, each time with 20% data randomly selected as a validation set.\n",
    "cv = ShuffleSplit(n_splits=20, test_size=0.2, random_state=0)\n",
    "estimator = SVC(C=0.1, gamma=1,kernel= 'poly')\n",
    "plot_learning_curve(\n",
    "    estimator,\n",
    "    title,\n",
    "    X_train,\n",
    "    y_train,\n",
    "    axes=axes[:, 3],\n",
    "    ylim=(0.7, 1.01),\n",
    "    cv=cv,\n",
    "    n_jobs=4,\n",
    "    scoring=\"accuracy\",\n",
    ")\n",
    "\n",
    "title = \"KNN\"\n",
    "# Cross validation with 20 iterations to get smoother mean test and train\n",
    "# score curves, each time with 20% data randomly selected as a validation set.\n",
    "cv = ShuffleSplit(n_splits=20, test_size=0.2, random_state=0)\n",
    "estimator = KNeighborsClassifier(n_neighbors=1, metric='euclidean')\n",
    "plot_learning_curve(\n",
    "    estimator,\n",
    "    title,\n",
    "    X_train,\n",
    "    y_train,\n",
    "    axes=axes[:, 4],\n",
    "    ylim=(0.7, 1.01),\n",
    "    cv=cv,\n",
    "    n_jobs=4,\n",
    "    scoring=\"accuracy\",\n",
    ")\n",
    "\n",
    "plt.savefig('MINIST_best_models.png')\n",
    "plt.show()"
   ]
  },
  {
   "cell_type": "code",
   "execution_count": null,
   "id": "02c78a72",
   "metadata": {},
   "outputs": [],
   "source": []
  }
 ],
 "metadata": {
  "kernelspec": {
   "display_name": "Python 3 (ipykernel)",
   "language": "python",
   "name": "python3"
  },
  "language_info": {
   "codemirror_mode": {
    "name": "ipython",
    "version": 3
   },
   "file_extension": ".py",
   "mimetype": "text/x-python",
   "name": "python",
   "nbconvert_exporter": "python",
   "pygments_lexer": "ipython3",
   "version": "3.9.7"
  }
 },
 "nbformat": 4,
 "nbformat_minor": 5
}
